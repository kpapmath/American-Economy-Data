{
 "cells": [
  {
   "cell_type": "markdown",
   "metadata": {},
   "source": [
    "# Analysis of American Economy 2000-2020"
   ]
  },
  {
   "cell_type": "code",
   "execution_count": null,
   "metadata": {},
   "outputs": [],
   "source": [
    "import pandas as pd\n",
    "import numpy as np\n",
    "import matplotlib.pyplot as plt\n",
    "from pandas.plotting import register_matplotlib_converters\n",
    "register_matplotlib_converters()\n",
    "import seaborn as sns\n",
    "#in order to see the entire dataframe we change the option set\n",
    "pd.set_option('display.max_rows', None, 'display.max_columns', None)"
   ]
  },
  {
   "cell_type": "markdown",
   "metadata": {},
   "source": [
    "We create a directory for the Graphs. In order to do so we must import the library os."
   ]
  },
  {
   "cell_type": "code",
   "execution_count": null,
   "metadata": {},
   "outputs": [],
   "source": [
    "import os\n",
    "# if the path allready exists the do not make the directory\n",
    "if os.path.exists('Graphs')==False :\n",
    "    os.mkdir('Graphs')"
   ]
  },
  {
   "cell_type": "markdown",
   "metadata": {},
   "source": [
    "First we import the indexes that we have obltained so as to begin the analysis.\n",
    "\n",
    "This analysis will exclude the crisis period from 2007-12 to 2009-06. This period will be shown as a grey area in all the graphs."
   ]
  },
  {
   "cell_type": "markdown",
   "metadata": {},
   "source": [
    "## Money Index\n",
    "\n",
    "### Money Supply"
   ]
  },
  {
   "cell_type": "code",
   "execution_count": null,
   "metadata": {},
   "outputs": [],
   "source": [
    "M1=pd.read_csv('M1.csv',parse_dates=['DATE'],index_col='DATE')\n",
    "M1.head()"
   ]
  },
  {
   "cell_type": "code",
   "execution_count": null,
   "metadata": {},
   "outputs": [],
   "source": [
    "fig, ax = plt.subplots(figsize = (15,5))\n",
    "ax.plot(M1['2000':],'b',label='M1')\n",
    "ax.axvspan('2007-12', '2009-06', color='grey', alpha=0.5)\n",
    "# define the axes properties and the title of the graph\n",
    "ax.set(xlabel='time (Week)', ylabel='Billions of $',\n",
    "       title='M1 Money Stock')\n",
    "#introduce grid on the plot\n",
    "ax.grid()\n",
    "#show the plot\n",
    "plt.show()\n",
    "#Save the plot\n",
    "fig.savefig('Graphs\\M1_Money_Stock.png',bbox_inches='tight')"
   ]
  },
  {
   "cell_type": "code",
   "execution_count": null,
   "metadata": {},
   "outputs": [],
   "source": [
    "M2=pd.read_csv('M2.csv',parse_dates=['DATE'],index_col='DATE')\n",
    "M2.head()"
   ]
  },
  {
   "cell_type": "code",
   "execution_count": null,
   "metadata": {},
   "outputs": [],
   "source": [
    "fig, ax = plt.subplots(figsize = (15,5))\n",
    "ax.plot(M2['2000':],'b',label='M2')\n",
    "ax.axvspan('2007-12', '2009-06', color='grey', alpha=0.5)\n",
    "# define the axes properties and the title of the graph\n",
    "ax.set(xlabel='time (Week)', ylabel='Billions of $',\n",
    "       title='M2 Money Stock')\n",
    "#introduce grid on the plot\n",
    "ax.grid()\n",
    "#show the plot\n",
    "plt.show()\n",
    "#Save the plot\n",
    "fig.savefig('Graphs\\M2_Money_Stock.png',bbox_inches='tight')"
   ]
  },
  {
   "cell_type": "code",
   "execution_count": null,
   "metadata": {},
   "outputs": [],
   "source": [
    "MZM=pd.read_csv('MZM.csv',parse_dates=['DATE'],index_col='DATE')\n",
    "MZM.head()"
   ]
  },
  {
   "cell_type": "code",
   "execution_count": null,
   "metadata": {},
   "outputs": [],
   "source": [
    "fig, ax = plt.subplots(figsize = (15,5))\n",
    "ax.plot(MZM['2000':],'b',label='M1')\n",
    "ax.axvspan('2007-12', '2009-06', color='grey', alpha=0.5)\n",
    "# define the axes properties and the title of the graph\n",
    "ax.set(xlabel='time (Week)', ylabel='Billions of $',\n",
    "       title='MZM Money Stock')\n",
    "#introduce grid on the plot\n",
    "ax.grid()\n",
    "#show the plot\n",
    "plt.show()\n",
    "#Save the plot\n",
    "fig.savefig('Graphs\\MZM_Money_Stock.png',bbox_inches='tight')"
   ]
  },
  {
   "cell_type": "markdown",
   "metadata": {},
   "source": [
    "Plot the money supply"
   ]
  },
  {
   "cell_type": "code",
   "execution_count": null,
   "metadata": {},
   "outputs": [],
   "source": [
    "fig, ax = plt.subplots(figsize = (15,5))\n",
    "ax.plot(M1['2000':],'b',label='M1')\n",
    "ax.plot(M2['2000':],'g',label='M2')\n",
    "ax.plot(MZM['2000':],'r',label='MZM')\n",
    "ax.axvspan('2007-12', '2009-06', color='grey', alpha=0.5)\n",
    "# define the axes properties and the title of the graph\n",
    "ax.set(xlabel='time (Week)', ylabel='Billions of $',\n",
    "       title='Money Stock')\n",
    "#insert a legend\n",
    "ax.legend(loc='best')\n",
    "#introduce grid on the plot\n",
    "ax.grid()\n",
    "#show the plot\n",
    "plt.show()\n",
    "#Save the plot\n",
    "fig.savefig('Graphs\\Money_Stock.png',bbox_inches='tight')"
   ]
  },
  {
   "cell_type": "code",
   "execution_count": null,
   "metadata": {},
   "outputs": [],
   "source": [
    "M2_MON=M2.M2['2000':].resample('M').mean()\n",
    "M2_MON.head()"
   ]
  },
  {
   "cell_type": "code",
   "execution_count": null,
   "metadata": {},
   "outputs": [],
   "source": [
    "MZM_MON=MZM.MZM['2000':].resample('M').mean()\n",
    "MZM_MON.head()"
   ]
  },
  {
   "cell_type": "code",
   "execution_count": null,
   "metadata": {},
   "outputs": [],
   "source": [
    "fig, ax = plt.subplots(figsize = (15,5))\n",
    "ax.plot(M2_MON,'g',label='M2')\n",
    "ax.plot(MZM_MON,'r',label='MZM')\n",
    "ax.axvspan('2007-12', '2009-06', color='grey', alpha=0.5)\n",
    "# define the axes properties and the title of the graph\n",
    "ax.set(xlabel='time (Week)', ylabel='Billions of $',\n",
    "       title='M2 - MZM Money Stock Monthly Average')\n",
    "#insert a legend\n",
    "ax.legend(loc='best')\n",
    "fig.savefig('Graphs\\M2_MZM_Money_Stock_Mon_Avg.png',bbox_inches='tight')"
   ]
  },
  {
   "cell_type": "code",
   "execution_count": null,
   "metadata": {},
   "outputs": [],
   "source": [
    "M2_log=np.log(M2_MON)\n",
    "M2_log.head()"
   ]
  },
  {
   "cell_type": "code",
   "execution_count": null,
   "metadata": {},
   "outputs": [],
   "source": [
    "MZM_log=np.log(MZM_MON)\n",
    "MZM_log.head()"
   ]
  },
  {
   "cell_type": "code",
   "execution_count": null,
   "metadata": {},
   "outputs": [],
   "source": [
    "fig, ax = plt.subplots(figsize = (15,5))\n",
    "ax.plot(M2_log,'g',label='M2')\n",
    "ax.plot(MZM_log,'r',label='MZM')\n",
    "ax.axvspan('2007-12', '2009-06', color='grey', alpha=0.5)\n",
    "# define the axes properties and the title of the graph\n",
    "ax.set(xlabel='time (Week)', ylabel='Log Billions of $',\n",
    "       title='Log M2 - MZM Money Stock')\n",
    "#insert a legend\n",
    "ax.legend(loc='best')\n",
    "fig.savefig('Graphs\\M2_MZM_Money_Stock_Norm.png',bbox_inches='tight')"
   ]
  },
  {
   "cell_type": "markdown",
   "metadata": {},
   "source": [
    "### Money Velocities"
   ]
  },
  {
   "cell_type": "code",
   "execution_count": null,
   "metadata": {},
   "outputs": [],
   "source": [
    "M1V=pd.read_csv('M1V.csv',parse_dates=['DATE'],index_col='DATE')\n",
    "M1V.head()"
   ]
  },
  {
   "cell_type": "code",
   "execution_count": null,
   "metadata": {},
   "outputs": [],
   "source": [
    "fig, ax = plt.subplots(figsize = (15,5))\n",
    "ax.plot(M1V['2000':],'b',label='M1V')\n",
    "ax.axvspan('2007-12', '2009-06', color='grey', alpha=0.5)\n",
    "# define the axes properties and the title of the graph\n",
    "ax.set(xlabel='time (Quarters)', ylabel='Ratio',\n",
    "       title='Velocity of M1 Money Stock')\n",
    "#introduce grid on the plot\n",
    "ax.grid()\n",
    "#show the plot\n",
    "plt.show()\n",
    "#Save the plot\n",
    "fig.savefig('Graphs\\Velocity_of_M1_Money.png',bbox_inches='tight')"
   ]
  },
  {
   "cell_type": "code",
   "execution_count": null,
   "metadata": {},
   "outputs": [],
   "source": [
    "M2V=pd.read_csv('M2V.csv',parse_dates=['DATE'],index_col='DATE')\n",
    "M2V.head()"
   ]
  },
  {
   "cell_type": "code",
   "execution_count": null,
   "metadata": {},
   "outputs": [],
   "source": [
    "fig, ax = plt.subplots(figsize = (15,5))\n",
    "ax.plot(M2V['2000':],'b',label='M2V')\n",
    "ax.axvspan('2007-12', '2009-06', color='grey', alpha=0.5)\n",
    "# define the axes properties and the title of the graph\n",
    "ax.set(xlabel='time (Quarters)', ylabel='Ratio',\n",
    "       title='Velocity of M2 Money Stock')\n",
    "#introduce grid on the plot\n",
    "ax.grid()\n",
    "#show the plot\n",
    "plt.show()\n",
    "#Save the plot\n",
    "fig.savefig('Graphs\\Velocity_of_M2_Money.png',bbox_inches='tight')"
   ]
  },
  {
   "cell_type": "code",
   "execution_count": null,
   "metadata": {},
   "outputs": [],
   "source": [
    "MZMV=pd.read_csv('MZMV.csv',parse_dates=['DATE'],index_col='DATE')\n",
    "MZMV.head()"
   ]
  },
  {
   "cell_type": "code",
   "execution_count": null,
   "metadata": {},
   "outputs": [],
   "source": [
    "fig, ax = plt.subplots(figsize = (15,5))\n",
    "ax.plot(MZMV['2000':],'b',label='MZMV')\n",
    "ax.axvspan('2007-12', '2009-06', color='grey', alpha=0.5)\n",
    "# define the axes properties and the title of the graph\n",
    "ax.set(xlabel='time (Quarters)', ylabel='Ratio',\n",
    "       title='Velocity of MZM Money Stock')\n",
    "#introduce grid on the plot\n",
    "ax.grid()\n",
    "#show the plot\n",
    "plt.show()\n",
    "#Save the plot\n",
    "fig.savefig('Graphs\\Velocity_of_MZM_Money.png',bbox_inches='tight')"
   ]
  },
  {
   "cell_type": "markdown",
   "metadata": {},
   "source": [
    "Plot all money velocities in one graph"
   ]
  },
  {
   "cell_type": "code",
   "execution_count": null,
   "metadata": {},
   "outputs": [],
   "source": [
    "fig, ax = plt.subplots(figsize = (15,5))\n",
    "ax.plot(M1V['2000':],'b',label='M1V')\n",
    "ax.plot(M2V['2000':],'r',label='M2V')\n",
    "ax.plot(MZMV['2000':],'g',label='MZMV')\n",
    "ax.axvspan('2007-12', '2009-06', color='grey', alpha=0.5)\n",
    "# define the axes properties and the title of the graph\n",
    "ax.set(xlabel='time (Quarters)', ylabel='Ratio',\n",
    "       title='Velocities of all Money Stock')\n",
    "#insert a legend\n",
    "ax.legend(loc='best')\n",
    "#introduce grid on the plot\n",
    "ax.grid()\n",
    "#show the plot\n",
    "plt.show()\n",
    "#Save the plot\n",
    "fig.savefig('Graphs\\Velocity_of_Money.png',bbox_inches='tight')"
   ]
  },
  {
   "cell_type": "code",
   "execution_count": null,
   "metadata": {},
   "outputs": [],
   "source": [
    "fig, ax = plt.subplots(figsize = (15,5))\n",
    "ax.plot(M2V['2000':],'r',label='M2V')\n",
    "ax.plot(MZMV['2000':],'g',label='MZMV')\n",
    "ax.axvspan('2007-12', '2009-06', color='grey', alpha=0.5)\n",
    "# define the axes properties and the title of the graph\n",
    "ax.set(xlabel='time (Quarters)', ylabel='Ratio',\n",
    "       title='Velocities of M2 & MZM Money Stock')\n",
    "#insert a legend\n",
    "ax.legend(loc='best')\n",
    "#introduce grid on the plot\n",
    "ax.grid()\n",
    "#show the plot\n",
    "plt.show()\n",
    "#Save the plot\n",
    "fig.savefig('Graphs\\Velocity_of_M2_MZM_Money.png',bbox_inches='tight')"
   ]
  },
  {
   "cell_type": "markdown",
   "metadata": {},
   "source": [
    "Create a single dataframe drom M2 and MZM Money Stock Dataframes with the merge function.\n",
    "\n",
    "Merge is only for 2 dataframes"
   ]
  },
  {
   "cell_type": "code",
   "execution_count": null,
   "metadata": {},
   "outputs": [],
   "source": [
    "VMONST=pd.merge(M2V,MZMV,on='DATE', how='outer', indicator=True)\n",
    "VMONST.head()"
   ]
  },
  {
   "cell_type": "markdown",
   "metadata": {},
   "source": [
    "Create a single datraframe with all the Money Stock Values with concat function"
   ]
  },
  {
   "cell_type": "code",
   "execution_count": null,
   "metadata": {},
   "outputs": [],
   "source": [
    "VMONSTA=pd.concat([M1V['1980-11-03':],M2V.M2V,MZMV.MZMV],axis=1)\n",
    "VMONSTA.head()"
   ]
  },
  {
   "cell_type": "code",
   "execution_count": null,
   "metadata": {},
   "outputs": [],
   "source": [
    "fig, ax = plt.subplots(nrows=2,ncols=1,figsize = (15,10))\n",
    "ax[0].plot(M2['2000':],'g',label='M2')\n",
    "ax[0].plot(MZM['2000':],'r',label='MZM')\n",
    "ax[0].axvspan('2007-12', '2009-06', color='grey', alpha=0.5)\n",
    "# define the axes properties and the title of the graph\n",
    "ax[0].set(xlabel='time (Week)', ylabel='Billions of $',\n",
    "       title='M2 - MZM Money Stock')\n",
    "#insert a legend\n",
    "ax[0].legend(loc='best')\n",
    "#introduce grid on the plot\n",
    "ax[0].grid()\n",
    "ax[1].plot(M2V['2000':]['2000':],'g',label='M2V')\n",
    "ax[1].plot(MZMV['2000':],'r',label='MZMV')\n",
    "# define the axes properties and the title of the graph\n",
    "ax[1].set(xlabel='time (Quarters)', ylabel='Ratio',\n",
    "       title='Velocities of M2 & MZM Money Stock')\n",
    "#insert a legend\n",
    "ax[1].legend(loc='best')\n",
    "#introduce grid on the plot\n",
    "ax[1].axvspan('2007-12', '2009-06', color='grey', alpha=0.5)\n",
    "ax[1].grid()\n",
    "#Save the plot\n",
    "fig.savefig('Graphs\\M2_MZM_Money_Stock_V.png',bbox_inches='tight')"
   ]
  },
  {
   "cell_type": "markdown",
   "metadata": {},
   "source": [
    "### Money Multiplier"
   ]
  },
  {
   "cell_type": "markdown",
   "metadata": {},
   "source": [
    "NOTICE:\n",
    "The money multiplier stops at the end of 2019"
   ]
  },
  {
   "cell_type": "code",
   "execution_count": null,
   "metadata": {},
   "outputs": [],
   "source": [
    "MULT=pd.read_csv('MULT.csv',parse_dates=['DATE'],index_col='DATE')\n",
    "MULT.head()"
   ]
  },
  {
   "cell_type": "code",
   "execution_count": null,
   "metadata": {},
   "outputs": [],
   "source": [
    "MULT.tail()"
   ]
  },
  {
   "cell_type": "code",
   "execution_count": null,
   "metadata": {},
   "outputs": [],
   "source": [
    "fig, ax = plt.subplots(figsize = (15,5))\n",
    "ax.plot( MULT['2000':],'b',label='MULT')\n",
    "# draw a grey bar in order to show the crisis period. \n",
    "ax.axvspan('2007-12', '2009-06', color='grey', alpha=0.5)\n",
    "# define the axes properties and the title of the graph\n",
    "ax.set(xlabel='time (14 days)', ylabel='Ratio',\n",
    "       title='M1 Money Multiplier')\n",
    "#introduce grid on the plot\n",
    "ax.grid()\n",
    "#show the plot\n",
    "plt.show()\n",
    "#Save the plot\n",
    "fig.savefig('Graphs\\M1_Money_Multiplier.jpg',optimize=True,bbox_inches='tight')"
   ]
  },
  {
   "cell_type": "markdown",
   "metadata": {},
   "source": [
    "in order to find the mean value of every month we will use the resample function with frequency =\"M\"=month nad the nimpy function \"mean\""
   ]
  },
  {
   "cell_type": "code",
   "execution_count": null,
   "metadata": {},
   "outputs": [],
   "source": [
    "MULT_MON=MULT['MULT']['2000':].resample('M').mean() \n",
    "MULT_MON.head()"
   ]
  },
  {
   "cell_type": "code",
   "execution_count": null,
   "metadata": {},
   "outputs": [],
   "source": [
    "fig, ax = plt.subplots(figsize = (15,5))\n",
    "ax.plot( MULT_MON,'b',label='MULT')\n",
    "ax.axvspan('2007-12', '2009-06', color='grey', alpha=0.5)\n",
    "# define the axes properties and the title of the graph\n",
    "ax.set(xlabel='time (Month)', ylabel='Ratio',\n",
    "       title='M1 Money Multiplier Monthly Average')\n",
    "#introduce grid on the plot\n",
    "ax.grid()\n",
    "#show the plot\n",
    "plt.show()\n",
    "#Save the plot\n",
    "fig.savefig('Graphs\\M1_Money_Multiplier_Mon_Avg.jpg',optimize=True,bbox_inches='tight')"
   ]
  },
  {
   "cell_type": "markdown",
   "metadata": {},
   "source": [
    "## CONSLOANSs"
   ]
  },
  {
   "cell_type": "markdown",
   "metadata": {},
   "source": [
    "### CONSLOANS Price Index"
   ]
  },
  {
   "cell_type": "code",
   "execution_count": null,
   "metadata": {},
   "outputs": [],
   "source": [
    "CPALT=pd.read_csv('CPALTT01USQ657N.csv',parse_dates=['DATE'],index_col='DATE')\n",
    "CPALT.head()"
   ]
  },
  {
   "cell_type": "code",
   "execution_count": null,
   "metadata": {},
   "outputs": [],
   "source": [
    "fig, ax = plt.subplots(figsize = (15,5))\n",
    "ax.plot( CPALT['2000':],'b',label='MULT')\n",
    "ax.axvspan('2007-12', '2009-06', color='grey', alpha=0.5)\n",
    "# define the axes properties and the title of the graph\n",
    "ax.set(xlabel='time (Quarters)', ylabel='Growth Rate Previous Period',\n",
    "       title='CONSLOANS Price Index: Total All Items for the United States')\n",
    "#introduce grid on the plot\n",
    "ax.grid()\n",
    "#show the plot\n",
    "plt.show()\n",
    "#Save the plot\n",
    "fig.savefig('Graphs\\CONSLOANS_Price_Index.png',bbox_inches='tight')"
   ]
  },
  {
   "cell_type": "markdown",
   "metadata": {},
   "source": [
    "### CONSLOANS Price Index for All Urban CONSLOANSs"
   ]
  },
  {
   "cell_type": "code",
   "execution_count": null,
   "metadata": {},
   "outputs": [],
   "source": [
    "CPIL=pd.read_csv('CPILFESL.csv',parse_dates=['DATE'],index_col='DATE')\n",
    "CPIL.head()"
   ]
  },
  {
   "cell_type": "code",
   "execution_count": null,
   "metadata": {},
   "outputs": [],
   "source": [
    "CPIL_MON=CPIL['CPILFESL']['2000':].resample('M').mean()/100 \n",
    "CPIL_MON.head()"
   ]
  },
  {
   "cell_type": "code",
   "execution_count": null,
   "metadata": {},
   "outputs": [],
   "source": [
    "CPIL_MON=CPIL_MON.shift(-1)\n",
    "CPIL_MON.dropna(axis=0,inplace=True)\n",
    "CPIL_MON.head()"
   ]
  },
  {
   "cell_type": "code",
   "execution_count": null,
   "metadata": {},
   "outputs": [],
   "source": [
    "fig, ax = plt.subplots(figsize = (15,5))\n",
    "ax.plot( CPIL_MON,'b',label='CPILCPIL')\n",
    "ax.axvspan('2007-12', '2009-06', color='grey', alpha=0.5)\n",
    "# define the axes properties and the title of the graph\n",
    "ax.set(xlabel='time (months)', ylabel='Index 1982:1984=100',\n",
    "       title='CONSLOANS Price Index for All Urban CONSLOANSs: All Items Less Food and Energy in U.S. City Average')\n",
    "#introduce grid on the plot\n",
    "ax.grid()\n",
    "#show the plot\n",
    "plt.show()\n",
    "#Save the plot\n",
    "fig.savefig('Graphs\\CONSLOANS_Price_Index_All.png',bbox_inches='tight')"
   ]
  },
  {
   "cell_type": "markdown",
   "metadata": {},
   "source": [
    "### Harmonized Index of CONSLOANS Prices"
   ]
  },
  {
   "cell_type": "code",
   "execution_count": null,
   "metadata": {},
   "outputs": [],
   "source": [
    "CPUSM=pd.read_csv('CP0000USM086NEST.csv',parse_dates=['DATE'],index_col='DATE')\n",
    "# rename the column of the newly created series\n",
    "CPUSM.rename({'CP0000USM086NEST':'CPUSM'},axis=1,inplace=True)\n",
    "CPUSM.head()"
   ]
  },
  {
   "cell_type": "code",
   "execution_count": null,
   "metadata": {},
   "outputs": [],
   "source": [
    "CPUSM_MON=CPUSM.resample('M').mean()\n",
    "CPUSM_MON.head()"
   ]
  },
  {
   "cell_type": "code",
   "execution_count": null,
   "metadata": {},
   "outputs": [],
   "source": [
    "CPUSM_MON=CPUSM_MON.shift(-1)\n",
    "CPUSM_MON.dropna(axis=0,inplace=True)\n",
    "CPUSM_MON.head()"
   ]
  },
  {
   "cell_type": "code",
   "execution_count": null,
   "metadata": {},
   "outputs": [],
   "source": [
    "fig, ax = plt.subplots(figsize = (15,5))\n",
    "ax.plot(CPUSM_MON,'b',label='CPUSM')\n",
    "ax.axvspan('2007-12', '2009-06', color='grey', alpha=0.5)\n",
    "# define the axes properties and the title of the graph\n",
    "ax.set(xlabel='time (Month)', ylabel='Index 2015=100',\n",
    "       title='Harmonized Index of CONSLOANS Prices')\n",
    "#introduce grid on the plot\n",
    "ax.grid()\n",
    "#Save the plot\n",
    "fig.savefig('Graphs\\CONSLOANS_Price.png',bbox_inches='tight')"
   ]
  },
  {
   "cell_type": "markdown",
   "metadata": {},
   "source": [
    "### CONSLOANS Opinion Surveys: Confidence Indicators: Composite Indicators: OECD Indicator for the United States"
   ]
  },
  {
   "cell_type": "code",
   "execution_count": null,
   "metadata": {},
   "outputs": [],
   "source": [
    "CSCICP=pd.read_csv('CSCICP03USM665S.csv',parse_dates=['DATE'],index_col='DATE')\n",
    "CSCICP.rename({'CSCICP03USM665S':'CSCICP'},axis=1,inplace=True)\n",
    "CSCICP.head()"
   ]
  },
  {
   "cell_type": "code",
   "execution_count": null,
   "metadata": {},
   "outputs": [],
   "source": [
    "CSCICP_MON=CSCICP['2000':].resample('M').mean()/100\n",
    "CSCICP_MON.head()"
   ]
  },
  {
   "cell_type": "code",
   "execution_count": null,
   "metadata": {},
   "outputs": [],
   "source": [
    "CSCICP_MON=CSCICP_MON.shift(-1)\n",
    "CSCICP_MON.dropna(axis=0,inplace=True)\n",
    "CSCICP_MON.head()"
   ]
  },
  {
   "cell_type": "code",
   "execution_count": null,
   "metadata": {},
   "outputs": [],
   "source": [
    "fig, ax = plt.subplots(figsize = (15,5))\n",
    "ax.plot(CSCICP_MON,'b',label='CSCICP')\n",
    "ax.axvspan('2007-12', '2009-06', color='grey', alpha=0.5)\n",
    "# define the axes properties and the title of the graph\n",
    "ax.set(xlabel='time (Month)', ylabel='Normalized (Normal=100)',\n",
    "       title='CONSLOANS Opinion Surveys: Confidence Indicators: ')\n",
    "#introduce grid on the plot\n",
    "ax.grid()\n",
    "#Save the plot\n",
    "fig.savefig('Graphs\\CONSLOANS_Opinion_Surveys.png',bbox_inches='tight')"
   ]
  },
  {
   "cell_type": "markdown",
   "metadata": {},
   "source": [
    "### Inflation, CONSLOANS prices for the United States"
   ]
  },
  {
   "cell_type": "code",
   "execution_count": null,
   "metadata": {},
   "outputs": [],
   "source": [
    "INF=pd.read_csv('FPCPITOTLZGUSA.csv',parse_dates=['DATE'],index_col='DATE')\n",
    "INF.head()"
   ]
  },
  {
   "cell_type": "code",
   "execution_count": null,
   "metadata": {},
   "outputs": [],
   "source": [
    "fig, ax = plt.subplots(figsize = (15,5))\n",
    "ax.plot(INF['2000':],'b',label='INF')\n",
    "ax.axvspan('2007-12', '2009-06', color='grey', alpha=0.5)\n",
    "# define the axes properties and the title of the graph\n",
    "ax.set(xlabel='time (Year)', ylabel='Percent',\n",
    "       title='Inflation, CONSLOANS prices for the United States')\n",
    "#introduce grid on the plot\n",
    "ax.grid()\n",
    "#show the plot\n",
    "plt.show()\n",
    "#Save the plot\n",
    "fig.savefig('Graphs\\Inflation.png',bbox_inches='tight')"
   ]
  },
  {
   "cell_type": "markdown",
   "metadata": {},
   "source": [
    "## Deposits"
   ]
  },
  {
   "cell_type": "markdown",
   "metadata": {},
   "source": [
    "### Excess Reserves of Depository Institutions"
   ]
  },
  {
   "cell_type": "code",
   "execution_count": null,
   "metadata": {},
   "outputs": [],
   "source": [
    "EXCSR=pd.read_csv('EXCSRESNS.csv',parse_dates=['DATE'],index_col='DATE')\n",
    "EXCSR.head()"
   ]
  },
  {
   "cell_type": "code",
   "execution_count": null,
   "metadata": {},
   "outputs": [],
   "source": [
    "fig, ax = plt.subplots(figsize = (15,5))\n",
    "ax.plot(EXCSR['2000':],'b',label='EXCSR')\n",
    "ax.axvspan('2007-12', '2009-06', color='grey', alpha=0.5)\n",
    "# define the axes properties and the title of the graph\n",
    "ax.set(xlabel='time (Month)', ylabel='Millinos of $',\n",
    "       title='Excess Reserves of Depository Institutions')\n",
    "#introduce grid on the plot\n",
    "ax.grid()\n",
    "#show the plot\n",
    "plt.show()\n",
    "#Save the plot\n",
    "fig.savefig('Graphs\\Excess_Reserves_of_Depository.png',bbox_inches='tight')"
   ]
  },
  {
   "cell_type": "code",
   "execution_count": null,
   "metadata": {},
   "outputs": [],
   "source": [
    "EXCSR_MON=EXCSR.EXCSRESNS['2000':].resample('M').mean()/100\n",
    "EXCSR_MON.head()"
   ]
  },
  {
   "cell_type": "code",
   "execution_count": null,
   "metadata": {},
   "outputs": [],
   "source": [
    "EXCSR_MON=EXCSR_MON.shift(-1)\n",
    "EXCSR_MON.dropna(axis=0,inplace=True)\n",
    "EXCSR_MON.head()"
   ]
  },
  {
   "cell_type": "code",
   "execution_count": null,
   "metadata": {},
   "outputs": [],
   "source": [
    "EXCSR_MON=EXCSR_MON.shift(-1)\n",
    "EXCSR_MON.dropna(axis=0,inplace=True)\n",
    "EXCSR_MON.head()"
   ]
  },
  {
   "cell_type": "code",
   "execution_count": null,
   "metadata": {},
   "outputs": [],
   "source": [
    "EXCSR_log=np.log(EXCSR_MON)\n",
    "EXCSR_log.head()"
   ]
  },
  {
   "cell_type": "code",
   "execution_count": null,
   "metadata": {},
   "outputs": [],
   "source": [
    "fig, ax = plt.subplots(figsize = (15,5))\n",
    "ax.plot(EXCSR_log,'b',label='EXCSR')\n",
    "ax.axvspan('2007-12', '2009-06', color='grey', alpha=0.5)\n",
    "# define the axes properties and the title of the graph\n",
    "ax.set(xlabel='time (Month)', ylabel='Log Millions of $',\n",
    "       title='Log Excess Reserves of Depository Institutions')\n",
    "#introduce grid on the plot\n",
    "ax.grid()\n",
    "#show the plot\n",
    "plt.show()\n",
    "#Save the plot\n",
    "fig.savefig('Graphs\\Excess_Reserves_of_Depository_Norm.png',bbox_inches='tight')"
   ]
  },
  {
   "cell_type": "markdown",
   "metadata": {},
   "source": [
    "### Total Savings Deposits at all Depository Institutions"
   ]
  },
  {
   "cell_type": "code",
   "execution_count": null,
   "metadata": {},
   "outputs": [],
   "source": [
    "WSAV=pd.read_csv('WSAVNS.csv',parse_dates=['DATE'],index_col='DATE')\n",
    "WSAV.head()"
   ]
  },
  {
   "cell_type": "code",
   "execution_count": null,
   "metadata": {},
   "outputs": [],
   "source": [
    "fig, ax = plt.subplots(figsize = (15,5))\n",
    "ax.plot(WSAV['2000':],'b',label='WSAV')\n",
    "ax.axvspan('2007-12', '2009-06', color='grey', alpha=0.5)\n",
    "# define the axes properties and the title of the graph\n",
    "ax.set(xlabel='time (Week)', ylabel='Billions of $',\n",
    "       title='Total Savings Deposits at all Depository Institutions')\n",
    "#introduce grid on the plot\n",
    "ax.grid()\n",
    "#show the plot\n",
    "plt.show()\n",
    "#Save the plot\n",
    "fig.savefig('Graphs\\Total_Savings_Deposits.png',bbox_inches='tight')"
   ]
  },
  {
   "cell_type": "code",
   "execution_count": null,
   "metadata": {},
   "outputs": [],
   "source": [
    "WSAV_MON=WSAV['WSAVNS']['2000':].resample('M').mean()\n",
    "WSAV_MON.head()"
   ]
  },
  {
   "cell_type": "code",
   "execution_count": null,
   "metadata": {},
   "outputs": [],
   "source": [
    "fig, ax = plt.subplots(figsize = (15,5))\n",
    "ax.plot(WSAV_MON,'b',label='WSAV_MON')\n",
    "ax.axvspan('2007-12', '2009-06', color='grey', alpha=0.5)\n",
    "# define the axes properties and the title of the graph\n",
    "ax.set(xlabel='time (Month)', ylabel='Log Billions of $',\n",
    "       title='Total Savings Deposits at all Depository Institutions Monthly Average')\n",
    "#introduce grid on the plot\n",
    "ax.grid()\n",
    "#show the plot\n",
    "plt.show()\n",
    "#Save the plot\n",
    "fig.savefig('Graphs\\Total_Savings_Deposits_Mon_Avg.png',bbox_inches='tight')"
   ]
  },
  {
   "cell_type": "code",
   "execution_count": null,
   "metadata": {},
   "outputs": [],
   "source": [
    "WSAV_log=np.log(WSAV_MON)\n",
    "WSAV_log.head()"
   ]
  },
  {
   "cell_type": "code",
   "execution_count": null,
   "metadata": {},
   "outputs": [],
   "source": [
    "fig, ax = plt.subplots(figsize = (15,5))\n",
    "ax.plot(WSAV_log,'b',label='WSAV_norm')\n",
    "ax.axvspan('2007-12', '2009-06', color='grey', alpha=0.5)\n",
    "# define the axes properties and the title of the graph\n",
    "ax.set(xlabel='time (Month)', ylabel='Log Billions of $',\n",
    "       title='Log Total Savings Deposits at all Depository Institutions Monthly Average')\n",
    "#introduce grid on the plot\n",
    "ax.grid()\n",
    "#show the plot\n",
    "plt.show()\n",
    "#Save the plot\n",
    "fig.savefig('Graphs\\Total_Savings_Deposits_Mon_Avg_Norm.png',bbox_inches='tight')"
   ]
  },
  {
   "cell_type": "markdown",
   "metadata": {},
   "source": [
    "### Savings Deposits - Total"
   ]
  },
  {
   "cell_type": "code",
   "execution_count": null,
   "metadata": {},
   "outputs": [],
   "source": [
    "SAVE=pd.read_csv('SAVINGSL.csv',parse_dates=['DATE'],index_col='DATE')\n",
    "SAVE.head()"
   ]
  },
  {
   "cell_type": "code",
   "execution_count": null,
   "metadata": {},
   "outputs": [],
   "source": [
    "SAVE_MON=SAVE['2000':].resample('M').mean()\n",
    "SAVE_MON.head()"
   ]
  },
  {
   "cell_type": "code",
   "execution_count": null,
   "metadata": {},
   "outputs": [],
   "source": [
    "SAVE_MON=SAVE_MON.shift(-1)\n",
    "SAVE_MON.dropna(axis=0,inplace=True)\n",
    "SAVE_MON.head()"
   ]
  },
  {
   "cell_type": "code",
   "execution_count": null,
   "metadata": {},
   "outputs": [],
   "source": [
    "fig, ax = plt.subplots(figsize = (15,5))\n",
    "ax.plot(SAVE_MON,'b',label='SAVE')\n",
    "ax.axvspan('2007-12', '2009-06', color='grey', alpha=0.5)\n",
    "# define the axes properties and the title of the graph\n",
    "ax.set(xlabel='time (Month)', ylabel='Billions of U.S. Dollars',\n",
    "       title='Savings Deposits - Total ')\n",
    "#introduce grid on the plot\n",
    "ax.grid()\n",
    "#Save the plot\n",
    "fig.savefig('Graphs\\Savings_Deposits.png',bbox_inches='tight')"
   ]
  },
  {
   "cell_type": "code",
   "execution_count": null,
   "metadata": {},
   "outputs": [],
   "source": [
    "SAVE_log=np.log(SAVE_MON)\n",
    "SAVE_log.head()"
   ]
  },
  {
   "cell_type": "markdown",
   "metadata": {},
   "source": [
    "## Interest Rates"
   ]
  },
  {
   "cell_type": "markdown",
   "metadata": {},
   "source": [
    "### Bank Prime Loan Rate\n",
    "\n",
    "For the DPRIME variable we can observe that we have missing values. The basic problem is that all data are represented as object and not float values"
   ]
  },
  {
   "cell_type": "code",
   "execution_count": null,
   "metadata": {},
   "outputs": [],
   "source": [
    "Dprime=pd.read_csv('DPRIME.csv',parse_dates=['DATE'],index_col='DATE')\n",
    "Dprime.head()"
   ]
  },
  {
   "cell_type": "markdown",
   "metadata": {},
   "source": [
    "We replace the missing values which was represented as \".\" in the original Dataset with the np.NaN value"
   ]
  },
  {
   "cell_type": "code",
   "execution_count": null,
   "metadata": {},
   "outputs": [],
   "source": [
    "Drime=Dprime.replace(\".\",np.NaN)\n",
    "Dprime.head()"
   ]
  },
  {
   "cell_type": "code",
   "execution_count": null,
   "metadata": {},
   "outputs": [],
   "source": [
    "# check the type of the variables using the dtypes function\n",
    "Dprime.dtypes"
   ]
  },
  {
   "cell_type": "markdown",
   "metadata": {},
   "source": [
    "We convert the string series to float values"
   ]
  },
  {
   "cell_type": "code",
   "execution_count": null,
   "metadata": {},
   "outputs": [],
   "source": [
    "Dprime ['DPRIME'] = pd.to_numeric(Dprime['DPRIME'], errors='coerce')\n",
    "# check again to see if variables are the correct type\n",
    "Dprime.dtypes"
   ]
  },
  {
   "cell_type": "markdown",
   "metadata": {},
   "source": [
    "We the fill the NaN values with the previous values. This method considerd the optimal for this dataset because there is a contiouty in the values of the data"
   ]
  },
  {
   "cell_type": "code",
   "execution_count": null,
   "metadata": {},
   "outputs": [],
   "source": [
    "Dprime=Dprime.fillna(method='bfill')"
   ]
  },
  {
   "cell_type": "code",
   "execution_count": null,
   "metadata": {},
   "outputs": [],
   "source": [
    "fig, ax = plt.subplots(figsize = (15,5))\n",
    "ax.plot(Dprime['2000':],'b',label='DPRIME')\n",
    "ax.axvspan('2007-12', '2009-06', color='grey', alpha=0.5)\n",
    "# define the axes properties and the title of the graph\n",
    "ax.set(xlabel='time (day)', ylabel='Percent',\n",
    "       title='Bank Prime Loan Rate')\n",
    "#introduce grid on the plot\n",
    "ax.grid()\n",
    "#show the plot\n",
    "plt.show()\n",
    "#Save the plot\n",
    "fig.savefig('Graphs\\Bank_Prime_Loan.png',bbox_inches='tight')"
   ]
  },
  {
   "cell_type": "code",
   "execution_count": null,
   "metadata": {},
   "outputs": [],
   "source": [
    "DPRIME_MON=Dprime['DPRIME']['2000':'2020-02'].resample('M').mean() \n",
    "DPRIME_MON.head()"
   ]
  },
  {
   "cell_type": "code",
   "execution_count": null,
   "metadata": {},
   "outputs": [],
   "source": [
    "fig, ax = plt.subplots(figsize = (15,5))\n",
    "ax.plot(DPRIME_MON,'b',label='DPRIME')\n",
    "ax.axvspan('2007-12', '2009-06', color='grey', alpha=0.5)\n",
    "# define the axes properties and the title of the graph\n",
    "ax.set(xlabel='time (Month)', ylabel='Percent',\n",
    "       title='Bank Prime Loan Rate Monthly Average')\n",
    "#introduce grid on the plot\n",
    "ax.grid()\n",
    "#show the plot\n",
    "plt.show()\n",
    "#Save the plot\n",
    "fig.savefig('Graphs\\Bank_Prime_Loan.png',bbox_inches='tight')"
   ]
  },
  {
   "cell_type": "markdown",
   "metadata": {},
   "source": [
    "### Effective Federal Funds Rate"
   ]
  },
  {
   "cell_type": "code",
   "execution_count": null,
   "metadata": {},
   "outputs": [],
   "source": [
    "FED=pd.read_csv('FEDFUNDS.csv',parse_dates=['DATE'],index_col='DATE')\n",
    "FED['2000':].head()"
   ]
  },
  {
   "cell_type": "code",
   "execution_count": null,
   "metadata": {},
   "outputs": [],
   "source": [
    "fig, ax = plt.subplots(figsize = (15,5))\n",
    "ax.plot(FED['2000':],'b',label='FED')\n",
    "ax.axvspan('2007-12', '2009-06', color='grey', alpha=0.5)\n",
    "# define the axes properties and the title of the graph\n",
    "ax.set(xlabel='time (Month)', ylabel='Percent',\n",
    "       title='Effective Federal Funds Rate')\n",
    "#introduce grid on the plot\n",
    "ax.grid()\n",
    "#show the plot\n",
    "plt.show()\n",
    "#Save the plot\n",
    "fig.savefig('Graphs\\Effective_Federal_Funds_Rate_Mon_Avg.png',bbox_inches='tight')"
   ]
  },
  {
   "cell_type": "code",
   "execution_count": null,
   "metadata": {},
   "outputs": [],
   "source": [
    "FED_MON=FED.FEDFUNDS['2000':].resample('M').mean()\n",
    "FED_MON.head()"
   ]
  },
  {
   "cell_type": "code",
   "execution_count": null,
   "metadata": {},
   "outputs": [],
   "source": [
    "FED_MON=FED_MON.shift(-1)\n",
    "FED_MON.dropna(axis=0,inplace=True)\n",
    "FED_MON.head()"
   ]
  },
  {
   "cell_type": "code",
   "execution_count": null,
   "metadata": {},
   "outputs": [],
   "source": [
    "fig, ax = plt.subplots(figsize = (15,5))\n",
    "ax.plot(FED_MON,'b',label='FED')\n",
    "ax.axvspan('2007-12', '2009-06', color='grey', alpha=0.5)\n",
    "# define the axes properties and the title of the graph\n",
    "ax.set(xlabel='time (Month)', ylabel='Percent',\n",
    "       title='Effective Federal Funds Rate')\n",
    "#introduce grid on the plot\n",
    "ax.grid()\n",
    "#show the plot\n",
    "plt.show()\n",
    "#Save the plot\n",
    "fig.savefig('Graphs\\Effective_Federal_Funds_Rate_Mon_Avg.png',bbox_inches='tight')"
   ]
  },
  {
   "cell_type": "markdown",
   "metadata": {},
   "source": [
    "### 10-Year Treasury Constant Maturity Minus 3-Month Treasury Constant Maturity\n",
    "\n",
    "This dataset has missing values"
   ]
  },
  {
   "cell_type": "code",
   "execution_count": null,
   "metadata": {},
   "outputs": [],
   "source": [
    "TYM=pd.read_csv('T10Y3M.csv',parse_dates=['DATE'],index_col='DATE')\n",
    "# check the type of the variable\n",
    "type(TYM.T10Y3M[0])"
   ]
  },
  {
   "cell_type": "markdown",
   "metadata": {},
   "source": [
    "In order to fill the blank cells we will make use of the interpolation linear method"
   ]
  },
  {
   "cell_type": "code",
   "execution_count": null,
   "metadata": {},
   "outputs": [],
   "source": [
    "TYM=TYM.replace(\".\",np.NaN)\n",
    "TYM ['T10Y3M'] = pd.to_numeric(TYM['T10Y3M'], errors='coerce')\n",
    "TYM=TYM.interpolate(method='linear',axis=0)\n",
    "TYM.head()"
   ]
  },
  {
   "cell_type": "code",
   "execution_count": null,
   "metadata": {},
   "outputs": [],
   "source": [
    "#check again to see if the variable is the correct type\n",
    "type(TYM.T10Y3M[0])"
   ]
  },
  {
   "cell_type": "code",
   "execution_count": null,
   "metadata": {},
   "outputs": [],
   "source": [
    "fig, ax = plt.subplots(figsize = (15,5))\n",
    "ax.plot(TYM['2000':],'b',label='TYM')\n",
    "ax.axvspan('2007-12', '2009-06', color='grey', alpha=0.5)\n",
    "# define the axes properties and the title of the graph\n",
    "ax.set(xlabel='time (day)', ylabel='Percent',\n",
    "       title='10-Year Treasury Constant Maturity Minus 3-Month Treasury Constant Maturity')\n",
    "#introduce grid on the plot\n",
    "ax.grid()\n",
    "#show the plot\n",
    "plt.show()\n",
    "#Save the plot\n",
    "fig.savefig('Graphs\\Treasury_Constant_Maturity.png',bbox_inches='tight')"
   ]
  },
  {
   "cell_type": "code",
   "execution_count": null,
   "metadata": {},
   "outputs": [],
   "source": [
    "TYM_MON=TYM['T10Y3M']['2000':'2020-02'].resample('M').mean()/100\n",
    "TYM_MON.head()"
   ]
  },
  {
   "cell_type": "code",
   "execution_count": null,
   "metadata": {},
   "outputs": [],
   "source": [
    "TYM_MON.tail()"
   ]
  },
  {
   "cell_type": "code",
   "execution_count": null,
   "metadata": {},
   "outputs": [],
   "source": [
    "fig, ax = plt.subplots(figsize = (15,5))\n",
    "ax.plot(TYM_MON,'b',label='TYM')\n",
    "ax.axvspan('2007-12', '2009-06', color='grey', alpha=0.5)\n",
    "# define the axes properties and the title of the graph\n",
    "ax.set(xlabel='time (Month)', ylabel='Percent',\n",
    "       title='10-Year Treasury Constant Maturity Minus 3-Month Treasury Constant Maturity Monthly Average')\n",
    "#introduce grid on the plot\n",
    "ax.grid()\n",
    "#show the plot\n",
    "plt.show()\n",
    "#Save the plot\n",
    "fig.savefig('Graphs\\Treasury_Constant_Maturity_Mon_Avg.png',bbox_inches='tight')"
   ]
  },
  {
   "cell_type": "markdown",
   "metadata": {},
   "source": [
    "## Loans"
   ]
  },
  {
   "cell_type": "markdown",
   "metadata": {},
   "source": [
    "### CONSLOANS Loans, All Commercial Banks"
   ]
  },
  {
   "cell_type": "code",
   "execution_count": null,
   "metadata": {},
   "outputs": [],
   "source": [
    "CONS=pd.read_csv('CONSUMER.csv',parse_dates=['DATE'],index_col='DATE')\n",
    "CONS.rename(columns={'CONSUMER':'CONSLOANS'},inplace=True)\n",
    "CONS.head()"
   ]
  },
  {
   "cell_type": "code",
   "execution_count": null,
   "metadata": {},
   "outputs": [],
   "source": [
    "CONS_MON=CONS['2000':].resample('M').mean()\n",
    "CONS_MON.head()"
   ]
  },
  {
   "cell_type": "code",
   "execution_count": null,
   "metadata": {},
   "outputs": [],
   "source": [
    "CONS_MON=CONS_MON.shift(-1)\n",
    "CONS_MON.dropna(axis=0,inplace=True)\n",
    "CONS_MON.head()"
   ]
  },
  {
   "cell_type": "code",
   "execution_count": null,
   "metadata": {},
   "outputs": [],
   "source": [
    "fig, ax = plt.subplots(figsize = (15,5))\n",
    "ax.plot(CONS_MON,'b',label='CONS')\n",
    "ax.axvspan('2007-12', '2009-06', color='grey', alpha=0.5)\n",
    "# define the axes properties and the title of the graph\n",
    "ax.set(xlabel='time (Month)', ylabel='Billions of U.S. Dollars',\n",
    "       title='CONSLOANS Loans, All Commercial Banks')\n",
    "#introduce grid on the plot\n",
    "ax.grid()\n",
    "#Save the plot\n",
    "fig.savefig('Graphs\\CONSLOANS_Loans.png',bbox_inches='tight')"
   ]
  },
  {
   "cell_type": "code",
   "execution_count": null,
   "metadata": {},
   "outputs": [],
   "source": [
    "CONS_log=np.log(CONS_MON)\n",
    "CONS_log.head()"
   ]
  },
  {
   "cell_type": "markdown",
   "metadata": {},
   "source": [
    "### Real Estate Loans: Residential Real Estate Loans: Revolving Home Equity Loans, All Commercial Banks"
   ]
  },
  {
   "cell_type": "code",
   "execution_count": null,
   "metadata": {},
   "outputs": [],
   "source": [
    "REL=pd.read_csv('RHEACBW027SBOG.csv',parse_dates=['DATE'],index_col='DATE')\n",
    "REL.rename(columns={'RHEACBW027SBOG':'RealEstLoans'},inplace=True)\n",
    "REL.head()"
   ]
  },
  {
   "cell_type": "code",
   "execution_count": null,
   "metadata": {},
   "outputs": [],
   "source": [
    "REL_MON=REL['2000':].resample('M').mean()\n",
    "REL_MON.head()"
   ]
  },
  {
   "cell_type": "code",
   "execution_count": null,
   "metadata": {},
   "outputs": [],
   "source": [
    "REL_MON=REL_MON.shift(-1)\n",
    "REL_MON.dropna(axis=0,inplace=True)\n",
    "REL_MON.head()"
   ]
  },
  {
   "cell_type": "code",
   "execution_count": null,
   "metadata": {},
   "outputs": [],
   "source": [
    "fig, ax = plt.subplots(figsize = (15,5))\n",
    "ax.plot(REL_MON,'b',label='REL')\n",
    "ax.axvspan('2007-12', '2009-06', color='grey', alpha=0.5)\n",
    "# define the axes properties and the title of the graph\n",
    "ax.set(xlabel='time (Month)', ylabel='Billions of U.S. Dollars',\n",
    "       title='Real Estate Loans: Residential Real Estate Loans')\n",
    "#introduce grid on the plot\n",
    "ax.grid()\n",
    "#Save the plot\n",
    "fig.savefig('Graphs\\Real_Estate_Loans.png',bbox_inches='tight')"
   ]
  },
  {
   "cell_type": "code",
   "execution_count": null,
   "metadata": {},
   "outputs": [],
   "source": [
    "REL_log=np.log(REL_MON)\n",
    "REL_log.head()"
   ]
  },
  {
   "cell_type": "markdown",
   "metadata": {},
   "source": [
    "### Commercial and Industrial Loans, All Commercial Banks"
   ]
  },
  {
   "cell_type": "code",
   "execution_count": null,
   "metadata": {},
   "outputs": [],
   "source": [
    "BUSL=pd.read_csv('BUSLOANS.csv',parse_dates=['DATE'],index_col='DATE')\n",
    "BUSL.head()"
   ]
  },
  {
   "cell_type": "code",
   "execution_count": null,
   "metadata": {},
   "outputs": [],
   "source": [
    "BUSL_MON=BUSL['2000':].resample('M').mean()\n",
    "BUSL_MON.head()"
   ]
  },
  {
   "cell_type": "code",
   "execution_count": null,
   "metadata": {},
   "outputs": [],
   "source": [
    "BUSL_MON=BUSL_MON.shift(-1)\n",
    "BUSL_MON.dropna(axis=0,inplace=True)\n",
    "BUSL_MON.head()"
   ]
  },
  {
   "cell_type": "code",
   "execution_count": null,
   "metadata": {},
   "outputs": [],
   "source": [
    "fig, ax = plt.subplots(figsize = (15,5))\n",
    "ax.plot(BUSL_MON,'b',label='BUSL')\n",
    "ax.axvspan('2007-12', '2009-06', color='grey', alpha=0.5)\n",
    "# define the axes properties and the title of the graph\n",
    "ax.set(xlabel='time (Month)', ylabel='Billions of U.S. Dollars',\n",
    "       title='Commercial and Industrial Loans, All Commercial Banks ')\n",
    "#introduce grid on the plot\n",
    "ax.grid()\n",
    "#Save the plot\n",
    "fig.savefig('Graphs\\Comercial_Industrial_Loans.png',bbox_inches='tight')"
   ]
  },
  {
   "cell_type": "code",
   "execution_count": null,
   "metadata": {},
   "outputs": [],
   "source": [
    "BUSL_log=np.log(BUSL_MON)\n",
    "BUSL_log.head()"
   ]
  },
  {
   "cell_type": "markdown",
   "metadata": {},
   "source": [
    "### Delinquency Rate on Credit Card Loans, All Commercial Banks"
   ]
  },
  {
   "cell_type": "code",
   "execution_count": null,
   "metadata": {},
   "outputs": [],
   "source": [
    "DRC=pd.read_csv('DRCCLACBS.csv',parse_dates=['DATE'],index_col='DATE')\n",
    "DRC.head()"
   ]
  },
  {
   "cell_type": "code",
   "execution_count": null,
   "metadata": {},
   "outputs": [],
   "source": [
    "fig, ax = plt.subplots(figsize = (15,5))\n",
    "ax.plot(DRC,'b',label='DRC')\n",
    "ax.axvspan('2007-12', '2009-06', color='grey', alpha=0.5)\n",
    "# define the axes properties and the title of the graph\n",
    "ax.set(xlabel='time (Quarters)', ylabel='Percent, Seasonally Adjusted',\n",
    "       title='Delinquency Rate on Credit Card Loans, All Commercial Banks ')\n",
    "#introduce grid on the plot\n",
    "ax.grid()\n",
    "#Save the plot\n",
    "fig.savefig('Graphs\\Delinquency_Rate_Credit_CardLoans.png',bbox_inches='tight')"
   ]
  },
  {
   "cell_type": "markdown",
   "metadata": {},
   "source": [
    "### Delinquency Rate on All Loans, All Commercial Banks "
   ]
  },
  {
   "cell_type": "code",
   "execution_count": null,
   "metadata": {},
   "outputs": [],
   "source": [
    "DRA=pd.read_csv('DRALACBS.csv',parse_dates=['DATE'],index_col='DATE')\n",
    "DRA.head()"
   ]
  },
  {
   "cell_type": "code",
   "execution_count": null,
   "metadata": {},
   "outputs": [],
   "source": [
    "fig, ax = plt.subplots(figsize = (15,5))\n",
    "ax.plot(DRA['2000':],'b',label='DRA')\n",
    "ax.axvspan('2007-12', '2009-06', color='grey', alpha=0.5)\n",
    "# define the axes properties and the title of the graph\n",
    "ax.set(xlabel='time (Quarters)', ylabel='Percent, Seasonally Adjusted',\n",
    "       title='Delinquency Rate on All Loans, All Commercial Banks ')\n",
    "#introduce grid on the plot\n",
    "ax.grid()\n",
    "#Save the plot\n",
    "fig.savefig('Graphs\\Delinquency_Rate_Credit_CardLoans.png',bbox_inches='tight')"
   ]
  },
  {
   "cell_type": "markdown",
   "metadata": {},
   "source": [
    "## Stock Index\n",
    "\n",
    "### S&P 500 Index"
   ]
  },
  {
   "cell_type": "code",
   "execution_count": null,
   "metadata": {},
   "outputs": [],
   "source": [
    "GSPC=pd.read_csv('^GSPC.csv',parse_dates=['Date'],index_col='Date')\n",
    "GSPC.head()"
   ]
  },
  {
   "cell_type": "code",
   "execution_count": null,
   "metadata": {},
   "outputs": [],
   "source": [
    "GSPC.tail()"
   ]
  },
  {
   "cell_type": "code",
   "execution_count": null,
   "metadata": {},
   "outputs": [],
   "source": [
    "GSPC_MON=GSPC['Close']['2000':'2020-02'].resample('M').mean()\n",
    "# rename the column of the newly created series\n",
    "GSPC_MON.rename('SP500', inplace=True)\n",
    "GSPC_MON.head()"
   ]
  },
  {
   "cell_type": "code",
   "execution_count": null,
   "metadata": {},
   "outputs": [],
   "source": [
    "fig, ax = plt.subplots(figsize = (15,5))\n",
    "ax.plot(GSPC_MON,'b',label='GSPC')\n",
    "ax.axvspan('2007-12', '2009-06', color='grey', alpha=0.5)\n",
    "# define the axes properties and the title of the graph\n",
    "ax.set(xlabel='time (Month)', ylabel='Index Value',\n",
    "       title='S&P 500 Adj Close Monthly Average')\n",
    "#introduce grid on the plot\n",
    "ax.grid()\n",
    "#Save the plot\n",
    "fig.savefig('Graphs\\SP_500_Mon_Avg.png',bbox_inches='tight')"
   ]
  },
  {
   "cell_type": "code",
   "execution_count": null,
   "metadata": {},
   "outputs": [],
   "source": [
    "GSPC_log=np.log(GSPC_MON)\n",
    "GSPC_log.head()"
   ]
  },
  {
   "cell_type": "code",
   "execution_count": null,
   "metadata": {},
   "outputs": [],
   "source": [
    "fig, ax = plt.subplots(figsize = (15,5))\n",
    "ax.plot(GSPC_log,'b',label='GSPC')\n",
    "ax.axvspan('2007-12', '2009-06', color='grey', alpha=0.5)\n",
    "# define the axes properties and the title of the graph\n",
    "ax.set(xlabel='time (Month)', ylabel='Log Index Value',\n",
    "       title='Log S&P 500 Adj Close Index')\n",
    "#introduce grid on the plot\n",
    "ax.grid()\n",
    "#Save the plot\n",
    "fig.savefig('Graphs\\SP_500_Norm.png',bbox_inches='tight')"
   ]
  },
  {
   "cell_type": "markdown",
   "metadata": {},
   "source": [
    "### VIX Index"
   ]
  },
  {
   "cell_type": "code",
   "execution_count": null,
   "metadata": {},
   "outputs": [],
   "source": [
    "VIX=pd.read_csv('^VIX.csv',parse_dates=['Date'],index_col='Date')\n",
    "VIX.head()"
   ]
  },
  {
   "cell_type": "code",
   "execution_count": null,
   "metadata": {},
   "outputs": [],
   "source": [
    "VIX_MON=VIX['Close']['2000':'2020-02'].resample('M').mean()/100\n",
    "# rename the column of the newly created series\n",
    "VIX_MON.rename('VIX', inplace=True)\n",
    "VIX_MON.head()"
   ]
  },
  {
   "cell_type": "code",
   "execution_count": null,
   "metadata": {},
   "outputs": [],
   "source": [
    "fig, ax = plt.subplots(figsize = (15,5))\n",
    "ax.plot(VIX_MON,'b',label='VIX')\n",
    "ax.axvspan('2007-12', '2009-06', color='grey', alpha=0.5)\n",
    "# define the axes properties and the title of the graph\n",
    "ax.set(xlabel='time (Month)', ylabel='Percent',\n",
    "       title='VIX Monthly Average')\n",
    "#introduce grid on the plot\n",
    "ax.grid()\n",
    "#Save the plot\n",
    "fig.savefig('Graphs\\VIX_Mon_Avg.png',bbox_inches='tight')"
   ]
  },
  {
   "cell_type": "markdown",
   "metadata": {},
   "source": [
    "## Macroeconomic Index\n",
    "\n",
    "### US Policy Uncertainty Data"
   ]
  },
  {
   "cell_type": "code",
   "execution_count": null,
   "metadata": {},
   "outputs": [],
   "source": [
    "USP=pd.read_excel('US_Policy_Uncertainty_Data.xlsx','Main Index')\n",
    "USP.head()"
   ]
  },
  {
   "cell_type": "code",
   "execution_count": null,
   "metadata": {},
   "outputs": [],
   "source": [
    "type(USP.Year[1])"
   ]
  },
  {
   "cell_type": "code",
   "execution_count": null,
   "metadata": {},
   "outputs": [],
   "source": [
    "USP['Date']=pd.to_datetime(USP[['Year','Month','Day']])\n",
    "USP.head()"
   ]
  },
  {
   "cell_type": "code",
   "execution_count": null,
   "metadata": {},
   "outputs": [],
   "source": [
    "USP.set_index('Date',inplace=True)\n",
    "USP.head()"
   ]
  },
  {
   "cell_type": "code",
   "execution_count": null,
   "metadata": {},
   "outputs": [],
   "source": [
    "USP.drop(columns=['Year','Month','Day'],axis=1,inplace=True)\n",
    "USP.head()"
   ]
  },
  {
   "cell_type": "code",
   "execution_count": null,
   "metadata": {},
   "outputs": [],
   "source": [
    "USP_MON=USP['Three_Component_Index']['2000':].resample('M').mean()/100\n",
    "# rename the column of the newly created series\n",
    "USP_MON.rename('USPUI', inplace=True)\n",
    "USP_MON.head()"
   ]
  },
  {
   "cell_type": "code",
   "execution_count": null,
   "metadata": {},
   "outputs": [],
   "source": [
    "f, ax = plt.subplots(figsize = (15,5))\n",
    "ax.plot(USP_MON,'b',label='USP')\n",
    "ax.axvspan('2007-12', '2009-06', color='grey', alpha=0.5)\n",
    "# define the axes properties and the title of the graph\n",
    "ax.set(xlabel='time (Month)', ylabel='Index Value',\n",
    "       title='US Uncertainty  Monthly Index')\n",
    "#introduce grid on the plot\n",
    "ax.grid()\n",
    "#Save the plot\n",
    "f.savefig('USP_Mon.png',bbox_inches='tight')"
   ]
  },
  {
   "cell_type": "code",
   "execution_count": null,
   "metadata": {},
   "outputs": [],
   "source": [
    "USP_log=(USP_MON)\n",
    "USP_log.head()"
   ]
  },
  {
   "cell_type": "code",
   "execution_count": null,
   "metadata": {},
   "outputs": [],
   "source": [
    "fig, ax = plt.subplots(figsize = (15,5))\n",
    "ax.plot(USP_log,'b',label='USP')\n",
    "ax.axvspan('2007-12', '2009-06', color='grey', alpha=0.5)\n",
    "# define the axes properties and the title of the graph\n",
    "ax.set(xlabel='time (Month)', ylabel='Index Value',\n",
    "       title='US Uncertainty  Monthly Index Normalised')\n",
    "#introduce grid on the plot\n",
    "ax.grid()\n",
    "#Save the plot\n",
    "fig.savefig('USP_Mon_Norm.png',bbox_inches='tight')"
   ]
  },
  {
   "cell_type": "markdown",
   "metadata": {},
   "source": [
    "### Industrial Production Index"
   ]
  },
  {
   "cell_type": "code",
   "execution_count": null,
   "metadata": {},
   "outputs": [],
   "source": [
    "INDPRO=pd.read_csv('INDPRO.csv',parse_dates=['DATE'],index_col='DATE')\n",
    "INDPRO=INDPRO/100\n",
    "INDPRO.head()"
   ]
  },
  {
   "cell_type": "code",
   "execution_count": null,
   "metadata": {},
   "outputs": [],
   "source": [
    "INDPRO.tail()"
   ]
  },
  {
   "cell_type": "code",
   "execution_count": null,
   "metadata": {},
   "outputs": [],
   "source": [
    "fig, ax = plt.subplots(figsize = (15,5))\n",
    "ax.plot(INDPRO['2000':],'b',label='INDPRO')\n",
    "ax.axvspan('2007-12', '2009-06', color='grey', alpha=0.5)\n",
    "# define the axes properties and the title of the graph\n",
    "ax.set(xlabel='time (Month)', ylabel='INDEX 2012=100',\n",
    "       title='Idustrial Production Index')\n",
    "#introduce grid on the plot\n",
    "ax.grid()"
   ]
  },
  {
   "cell_type": "code",
   "execution_count": null,
   "metadata": {},
   "outputs": [],
   "source": [
    "INDPRO_MON=INDPRO['2000':'2020-02'].resample('M').mean()/100\n",
    "# rename the column of the newly created series\n",
    "INDPRO_MON.head()"
   ]
  },
  {
   "cell_type": "code",
   "execution_count": null,
   "metadata": {},
   "outputs": [],
   "source": [
    "INDPRO_MON=INDPRO_MON.shift(-1)\n",
    "INDPRO_MON.dropna(axis=0,inplace=True)\n",
    "INDPRO_MON.head()"
   ]
  },
  {
   "cell_type": "code",
   "execution_count": null,
   "metadata": {},
   "outputs": [],
   "source": [
    "fig, ax = plt.subplots(figsize = (15,5))\n",
    "ax.plot(INDPRO_MON,'b',label='INDPRO')\n",
    "ax.axvspan('2007-12', '2009-06', color='grey', alpha=0.5)\n",
    "# define the axes properties and the title of the graph\n",
    "ax.set(xlabel='time (Month)', ylabel='Index 2012=100',\n",
    "       title='Industrial Production Index')\n",
    "#introduce grid on the plot\n",
    "ax.grid()\n",
    "#Save the plot\n",
    "fig.savefig('Graphs\\IndPro.png',bbox_inches='tight')"
   ]
  },
  {
   "cell_type": "code",
   "execution_count": null,
   "metadata": {},
   "outputs": [],
   "source": [
    "INDPRO_log=(INDPRO_MON)\n",
    "INDPRO_log.head()"
   ]
  },
  {
   "cell_type": "markdown",
   "metadata": {},
   "source": [
    "### Producer Price Index for All Commodities"
   ]
  },
  {
   "cell_type": "code",
   "execution_count": null,
   "metadata": {},
   "outputs": [],
   "source": [
    "PPIACO=pd.read_csv('PPIACO.csv',parse_dates=['DATE'],index_col='DATE')\n",
    "PPIACO.head()"
   ]
  },
  {
   "cell_type": "code",
   "execution_count": null,
   "metadata": {},
   "outputs": [],
   "source": [
    "PPIACO_MON=PPIACO['2000':].resample('M').mean()/100\n",
    "PPIACO_MON.head()"
   ]
  },
  {
   "cell_type": "code",
   "execution_count": null,
   "metadata": {},
   "outputs": [],
   "source": [
    "PPIACO_MON=PPIACO_MON.shift(-1)\n",
    "PPIACO_MON.dropna(axis=0,inplace=True)\n",
    "PPIACO_MON.head()"
   ]
  },
  {
   "cell_type": "code",
   "execution_count": null,
   "metadata": {},
   "outputs": [],
   "source": [
    "fig, ax = plt.subplots(figsize = (15,5))\n",
    "ax.plot(PPIACO_MON,'b',label='PPIACO')\n",
    "ax.axvspan('2007-12', '2009-06', color='grey', alpha=0.5)\n",
    "# define the axes properties and the title of the graph\n",
    "ax.set(xlabel='time (Month)', ylabel='Index 1982=100',\n",
    "       title='Producer Price Index for All Commodities')\n",
    "#introduce grid on the plot\n",
    "ax.grid()\n",
    "#Save the plot\n",
    "fig.savefig('Graphs\\Producer_Price.png',bbox_inches='tight')"
   ]
  },
  {
   "cell_type": "markdown",
   "metadata": {},
   "source": [
    "### Unemployment Rate"
   ]
  },
  {
   "cell_type": "code",
   "execution_count": null,
   "metadata": {},
   "outputs": [],
   "source": [
    "UNRATE=pd.read_csv('UNRATE.csv',parse_dates=['DATE'],index_col='DATE')\n",
    "UNRATE.head()"
   ]
  },
  {
   "cell_type": "code",
   "execution_count": null,
   "metadata": {},
   "outputs": [],
   "source": [
    "UNRATE_MON=UNRATE['2000':].resample('M').mean()\n",
    "UNRATE_MON.head()"
   ]
  },
  {
   "cell_type": "code",
   "execution_count": null,
   "metadata": {},
   "outputs": [],
   "source": [
    "UNRATE_MON=UNRATE_MON.shift(-1)\n",
    "UNRATE_MON.dropna(axis=0,inplace=True)\n",
    "UNRATE_MON.head()"
   ]
  },
  {
   "cell_type": "code",
   "execution_count": null,
   "metadata": {},
   "outputs": [],
   "source": [
    "fig, ax = plt.subplots(figsize = (15,5))\n",
    "ax.plot(UNRATE_MON,'b',label='UNRATE')\n",
    "ax.axvspan('2007-12', '2009-06', color='grey', alpha=0.5)\n",
    "# define the axes properties and the title of the graph\n",
    "ax.set(xlabel='time (Month)', ylabel='Percent',\n",
    "       title='Unemployment Rate')\n",
    "#introduce grid on the plot\n",
    "ax.grid()\n",
    "#Save the plot\n",
    "fig.savefig('UnemploymentRate.png',bbox_inches='tight')"
   ]
  },
  {
   "cell_type": "markdown",
   "metadata": {},
   "source": [
    "### CONSLOANS Sentiment"
   ]
  },
  {
   "cell_type": "code",
   "execution_count": null,
   "metadata": {},
   "outputs": [],
   "source": [
    "UMCSENT=pd.read_csv('UMCSENT.csv',parse_dates=['DATE'],index_col='DATE',na_values='.')\n",
    "UMCSENT.head()"
   ]
  },
  {
   "cell_type": "code",
   "execution_count": null,
   "metadata": {},
   "outputs": [],
   "source": [
    "fig, ax = plt.subplots(figsize = (15,5))\n",
    "ax.plot(UMCSENT['2000':],'b',label='UNRATE')\n",
    "ax.axvspan('2007-12', '2009-06', color='grey', alpha=0.5)\n",
    "# define the axes properties and the title of the graph\n",
    "ax.set(xlabel='time (Month)', ylabel='index 1966:Q1=100',\n",
    "       title='CONSLOANS Sentiment')\n",
    "#introduce grid on the plot\n",
    "ax.grid()\n",
    "#Save the plot\n",
    "fig.savefig('Graphs\\CONSLOANSSentiment.png',bbox_inches='tight')"
   ]
  },
  {
   "cell_type": "code",
   "execution_count": null,
   "metadata": {},
   "outputs": [],
   "source": [
    "UMCSENT=UMCSENT.shift(-1)\n",
    "UMCSENT=UMCSENT['2000' :]\n",
    "UMCSENT_MON=UMCSENT.resample('M').mean()/100\n",
    "UMCSENT_MON.head()"
   ]
  },
  {
   "cell_type": "markdown",
   "metadata": {},
   "source": [
    "## Other Indexes"
   ]
  },
  {
   "cell_type": "markdown",
   "metadata": {},
   "source": [
    "### Crude Oil Prices: West Texas Intermediate (WTI) - Cushing, Oklahoma"
   ]
  },
  {
   "cell_type": "code",
   "execution_count": null,
   "metadata": {},
   "outputs": [],
   "source": [
    "DCOIL=pd.read_csv('DCOILWTICO.csv',parse_dates=['DATE'],index_col='DATE')\n",
    "DCOIL.head()"
   ]
  },
  {
   "cell_type": "code",
   "execution_count": null,
   "metadata": {},
   "outputs": [],
   "source": [
    "DCOIL.dtypes"
   ]
  },
  {
   "cell_type": "code",
   "execution_count": null,
   "metadata": {},
   "outputs": [],
   "source": [
    "DCOIL=pd.to_numeric(DCOIL['DCOILWTICO'], errors='coerce')\n",
    "DCOIL.dtypes"
   ]
  },
  {
   "cell_type": "code",
   "execution_count": null,
   "metadata": {},
   "outputs": [],
   "source": [
    "DCOIL_MON=DCOIL['2000':].resample('M').mean()\n",
    "DCOIL_MON.head()"
   ]
  },
  {
   "cell_type": "code",
   "execution_count": null,
   "metadata": {},
   "outputs": [],
   "source": [
    "DCOIL_MON=DCOIL_MON.shift(-1)\n",
    "DCOIL_MON.dropna(axis=0,inplace=True)\n",
    "DCOIL_MON.head()"
   ]
  },
  {
   "cell_type": "code",
   "execution_count": null,
   "metadata": {},
   "outputs": [],
   "source": [
    "fig, ax = plt.subplots(figsize = (15,5))\n",
    "ax.plot(DCOIL_MON,'b',label='DCOIL')\n",
    "ax.axvspan('2007-12', '2009-06', color='grey', alpha=0.5)\n",
    "# define the axes properties and the title of the graph\n",
    "ax.set(xlabel='time (Month)', ylabel='US $ per Barrel',\n",
    "       title='Crude Oil Prices: West Texas Intermediate (WTI) - Cushing, Oklahoma')\n",
    "#introduce grid on the plot\n",
    "ax.grid()\n",
    "#Save the plot\n",
    "fig.savefig('Graphs\\Crude_Oil_Prices.png',bbox_inches='tight')"
   ]
  },
  {
   "cell_type": "code",
   "execution_count": null,
   "metadata": {},
   "outputs": [],
   "source": [
    "DCOIL_log=np.log(DCOIL_MON)\n",
    "DCOIL_log.head()"
   ]
  },
  {
   "cell_type": "markdown",
   "metadata": {},
   "source": [
    "### U.S. / Euro Foreign Exchange Rate"
   ]
  },
  {
   "cell_type": "code",
   "execution_count": null,
   "metadata": {},
   "outputs": [],
   "source": [
    "USEU=pd.read_csv('DEXUSEU.csv',parse_dates=['DATE'],index_col='DATE')\n",
    "USEU.head()"
   ]
  },
  {
   "cell_type": "code",
   "execution_count": null,
   "metadata": {},
   "outputs": [],
   "source": [
    "USEU.dtypes"
   ]
  },
  {
   "cell_type": "code",
   "execution_count": null,
   "metadata": {},
   "outputs": [],
   "source": [
    "USEU=pd.to_numeric(USEU['DEXUSEU'],errors='coerce')\n",
    "USEU.dtypes"
   ]
  },
  {
   "cell_type": "code",
   "execution_count": null,
   "metadata": {},
   "outputs": [],
   "source": [
    "USEU_MON=USEU['2000':].resample('M').mean()\n",
    "USEU_MON.head()"
   ]
  },
  {
   "cell_type": "code",
   "execution_count": null,
   "metadata": {},
   "outputs": [],
   "source": [
    "fig, ax = plt.subplots(figsize = (15,5))\n",
    "ax.plot(USEU_MON,'b',label='USEU')\n",
    "ax.axvspan('2007-12', '2009-06', color='grey', alpha=0.5)\n",
    "# define the axes properties and the title of the graph\n",
    "ax.set(xlabel='time (Month)', ylabel='US $ to One Euro',\n",
    "       title='U.S. / Euro Foreign Exchange Rate')\n",
    "#introduce grid on the plot\n",
    "ax.grid()\n",
    "#Save the plot\n",
    "fig.savefig('US_Euro_Foreign_Exchange_Rate.png',bbox_inches='tight')"
   ]
  },
  {
   "cell_type": "markdown",
   "metadata": {},
   "source": [
    "## Cross Correlation"
   ]
  },
  {
   "cell_type": "code",
   "execution_count": null,
   "metadata": {},
   "outputs": [],
   "source": [
    "Money=pd.concat([MULT_MON,MZM_log,CPIL_MON,CSCICP_MON,EXCSR_log,WSAV_log,FED_MON,\n",
    "                 TYM_MON,CONS_log,REL_log,BUSL_log,GSPC_log,VIX_MON,UMCSENT_MON,USP_MON,INDPRO_log,PPIACO_MON,UNRATE_MON,\n",
    "                DCOIL_MON,USEU_MON],axis=1)\n",
    "Money.head()"
   ]
  },
  {
   "cell_type": "code",
   "execution_count": null,
   "metadata": {},
   "outputs": [],
   "source": [
    "Money.tail()"
   ]
  },
  {
   "cell_type": "markdown",
   "metadata": {},
   "source": [
    "The cross correlation of the selected variables from 2000 up to 2007 (with the year 2007)\n",
    "\n",
    "We will calculate this using the spearman correlation method as we do not now if ther is a linear relationship between all variables"
   ]
  },
  {
   "cell_type": "code",
   "execution_count": null,
   "metadata": {},
   "outputs": [],
   "source": [
    "Money['2000':'2007-12'].tail()"
   ]
  },
  {
   "cell_type": "code",
   "execution_count": null,
   "metadata": {},
   "outputs": [],
   "source": [
    "Money_Cor=Money['2000':'2007-12'].corr(method='spearman')\n",
    "Money_Cor"
   ]
  },
  {
   "cell_type": "code",
   "execution_count": null,
   "metadata": {},
   "outputs": [],
   "source": [
    "#define a mask to show only the values below the diagonal of the cross correlation matrix\n",
    "mask = np.zeros_like(Money_Cor, dtype=np.bool)\n",
    "mask[np.triu_indices_from(mask)] = True\n",
    "# Set up the matplotlib figure\n",
    "f, ax = plt.subplots(figsize=(20, 18))\n",
    "# create the heatmap\n",
    "sns.heatmap(Money_Cor, cmap='cool', vmax=1,vmin=-1, center=0, annot=True,\n",
    "            square=False, linewidths=.5, cbar_kws={\"shrink\": .5},mask=mask)\n",
    "#define the place ofthe tickers in each axes\n",
    "ax.set_xticklabels(\n",
    "    ax.get_xticklabels(),\n",
    "    rotation=45,\n",
    "    horizontalalignment='right'\n",
    ");\n",
    "ax.set_yticklabels(\n",
    "    ax.get_yticklabels(),\n",
    "    rotation=0,\n",
    "    horizontalalignment='right'\n",
    ");\n",
    "plt.title('Cross Correlation Matrix 2000-2007')\n",
    "#set axis equal for better representation\n",
    "plt.axis('equal')\n",
    "# show\n",
    "plt.show()\n",
    "f.savefig('Graphs\\Spearman_Corr_00-07.png',bbox_inches='tight')"
   ]
  },
  {
   "cell_type": "markdown",
   "metadata": {},
   "source": [
    "The cross correlation of the selected variables from 2009-06 up to now"
   ]
  },
  {
   "cell_type": "code",
   "execution_count": null,
   "metadata": {},
   "outputs": [],
   "source": [
    "Money_Cor1=Money['2009-06':'2019'].corr(method='spearman')\n",
    "Money_Cor1.head()"
   ]
  },
  {
   "cell_type": "code",
   "execution_count": null,
   "metadata": {},
   "outputs": [],
   "source": [
    "#define a mask to show only the values below the diagonal of the cross correlation matrix\n",
    "mask = np.zeros_like(Money_Cor1, dtype=np.bool)\n",
    "mask[np.triu_indices_from(mask)] = True\n",
    "# Set up the matplotlib figure\n",
    "f, ax = plt.subplots(figsize=(20, 18))\n",
    "# create the heatmap\n",
    "sns.heatmap(Money_Cor1, cmap='cool', vmax=1,vmin=-1, center=0, annot=True,\n",
    "            square=False, linewidths=.5, cbar_kws={\"shrink\": .5}, mask=mask)\n",
    "#define the place ofthe tickers in each axes\n",
    "ax.set_xticklabels(\n",
    "    ax.get_xticklabels(),\n",
    "    rotation=45,\n",
    "    horizontalalignment='right'\n",
    ");\n",
    "ax.set_yticklabels(\n",
    "    ax.get_yticklabels(),\n",
    "    rotation=0,\n",
    "    horizontalalignment='right'\n",
    ");\n",
    "plt.title('Cross Correlation Matrix 2009-2020')\n",
    "#set axis equal for better representation\n",
    "plt.axis('equal')\n",
    "# show\n",
    "plt.show()\n",
    "f.savefig('Graphs\\Spearman_Corr_10-now.png',bbox_inches='tight')"
   ]
  },
  {
   "cell_type": "markdown",
   "metadata": {},
   "source": [
    "## Clustering"
   ]
  },
  {
   "cell_type": "code",
   "execution_count": null,
   "metadata": {},
   "outputs": [],
   "source": [
    "fig=sns.clustermap(Money['2000':'2007'], metric=\"correlation\", method=\"single\", cmap=\"Reds\", standard_scale=1,linewidth=.1)\n",
    "plt.title('Clustering 2000-2007')\n",
    "plt.show()\n",
    "fig.savefig('Graphs\\ClusterMap_00_07.png',bbox_inches='tight')"
   ]
  },
  {
   "cell_type": "code",
   "execution_count": null,
   "metadata": {},
   "outputs": [],
   "source": [
    "from scipy.cluster.hierarchy import dendrogram\n",
    "from sklearn.cluster import AgglomerativeClustering\n",
    "\n",
    "def plot_dendrogram(model, **kwargs):\n",
    "    # Create linkage matrix and then plot the dendrogram\n",
    "\n",
    "    # create the counts of samples under each node\n",
    "    counts = np.zeros(model.children_.shape[0])\n",
    "    n_samples = len(model.labels_)\n",
    "    for i, merge in enumerate(model.children_):\n",
    "        current_count = 0\n",
    "        for child_idx in merge:\n",
    "            if child_idx < n_samples:\n",
    "                current_count += 1  # leaf node\n",
    "            else:\n",
    "                current_count += counts[child_idx - n_samples]\n",
    "        counts[i] = current_count\n",
    "\n",
    "    linkage_matrix = np.column_stack([model.children_, model.distances_,\n",
    "                                      counts]).astype(float)\n",
    "\n",
    "    # Plot the corresponding dendrogram\n",
    "    dendrogram(linkage_matrix, **kwargs)\n",
    "    \n",
    "Money_t=(Money['2000':'2007']-Money['2000':'2007'].mean())/Money['2000':'2007'].std()\n",
    "# normalize the variables for the clustering analysis\n",
    "Money_t1=Money_t.transpose()\n",
    "# setting distance_threshold=0 ensures we compute the full tree.\n",
    "model = AgglomerativeClustering(distance_threshold=0, n_clusters=None)\n",
    "fig=plt.figure(figsize=(20,10))\n",
    "model = model.fit(Money_t1)\n",
    "plt.title('Hierarchical Clustering Dendrogram from 2000 to 2007 method=\"Ward\", metric=\"Euclidean\"',)\n",
    "# plot the top three levels of the dendrogram\n",
    "plot_dendrogram(model, truncate_mode='level',labels=list(Money['2000':'2007'].columns))\n",
    "plt.xlabel(\"Variable Names\")\n",
    "plt.xticks(rotation=45)\n",
    "plt.axhline(linestyle='--', y=22,color='k',lw=5)\n",
    "plt.show()\n",
    "fig.savefig('Graphs\\Hierarchical_00_07.png',bbox_inches='tight')"
   ]
  },
  {
   "cell_type": "code",
   "execution_count": null,
   "metadata": {},
   "outputs": [],
   "source": [
    "from scipy.cluster.hierarchy import dendrogram, linkage\n",
    "\n",
    "linked = linkage(Money_t1, 'single','correlation')\n",
    "\n",
    "labelList = list(Money['2000':'2007'].columns)\n",
    "\n",
    "fig=plt.figure(figsize=(20, 7))\n",
    "dendrogram(linked,\n",
    "            orientation='top',\n",
    "            labels=labelList,\n",
    "            distance_sort='descending')\n",
    "plt.title('Hierarchical Clustering 00-07, method=\"Single\", metric=\"Correlation\"')\n",
    "plt.xticks(rotation=45)\n",
    "plt.show()\n",
    "fig.savefig('Graphs\\Hierarchical_Clustering_00_07_Corr.png')"
   ]
  },
  {
   "cell_type": "code",
   "execution_count": null,
   "metadata": {},
   "outputs": [],
   "source": [
    "linked = linkage(Money_t1, 'complete','correlation')\n",
    "\n",
    "labelList = list(Money['2000':'2007'].columns)\n",
    "\n",
    "fig=plt.figure(figsize=(20, 7))\n",
    "dendrogram(linked,\n",
    "            orientation='top',\n",
    "            labels=labelList,\n",
    "            distance_sort='descending')\n",
    "plt.title('Hierarchical Clustering 00-07, method=\"Complete\", metric=\"Correlation\"')\n",
    "plt.xticks(rotation=45)\n",
    "plt.show()\n",
    "fig.savefig('Graphs\\Hierarchical_Clustering_00_07_Corr_Comp.png')"
   ]
  },
  {
   "cell_type": "code",
   "execution_count": null,
   "metadata": {},
   "outputs": [],
   "source": [
    "fig=sns.clustermap(Money['2009-06':'2019-11'], metric=\"correlation\", method=\"single\", cmap=\"Reds\", standard_scale=1,linewidth=.1)\n",
    "plt.title('Clustering 2009-2020')\n",
    "plt.show()\n",
    "fig.savefig('Graphs\\ClusterMap_10_19.png',bbox_inches='tight')"
   ]
  },
  {
   "cell_type": "code",
   "execution_count": null,
   "metadata": {},
   "outputs": [],
   "source": [
    "Money_t=(Money['2009-06':'2019-11']-Money['2009-06':'2019-11'].mean())/Money['2009-06':'2019-11'].std()\n",
    "# normalize the variables for the cluster analysis\n",
    "Money_t1=Money_t.transpose()\n",
    "# setting distance_threshold=0 ensures we compute the full tree.\n",
    "model = AgglomerativeClustering(distance_threshold=0, n_clusters=None)\n",
    "fig=plt.figure(figsize=(22,7))\n",
    "model = model.fit(Money_t1)\n",
    "plt.title('Hierarchical Clustering Dendrogram from 2009 to 2020')\n",
    "# plot the top three levels of the dendrogram\n",
    "plot_dendrogram(model, truncate_mode='level',labels=list(Money['2009-06':'2019-11'].columns))\n",
    "plt.xlabel(\"Number of points in node (or index of point if no parenthesis).\")\n",
    "plt.axhline(linestyle='--', y=22,color='k',lw=5)\n",
    "plt.xticks(rotation=45)\n",
    "plt.show()\n",
    "fig.savefig('Graphs\\Hierarchical_09_19.png',bbox_inches='tight')"
   ]
  },
  {
   "cell_type": "code",
   "execution_count": null,
   "metadata": {},
   "outputs": [],
   "source": [
    "linked = linkage(Money_t1, 'single','correlation')\n",
    "\n",
    "labelList = list(Money['2009-06':'2019-11'].columns)\n",
    "\n",
    "fig=plt.figure(figsize=(20, 7))\n",
    "dendrogram(linked,\n",
    "            orientation='top',\n",
    "            labels=labelList,\n",
    "            distance_sort='descending')\n",
    "plt.title('Hierarchical Clustering 09-20, method=\"Single\", metric=\"Correlation\"')\n",
    "plt.xticks(rotation=45)\n",
    "plt.show()\n",
    "fig.savefig('Graphs\\Hierarchical_Clustering_09_20_Corr.png',bbbox_inches='tight')"
   ]
  },
  {
   "cell_type": "code",
   "execution_count": null,
   "metadata": {},
   "outputs": [],
   "source": [
    "linked = linkage(Money_t1, 'complete','correlation')\n",
    "\n",
    "labelList = list(Money['2009-06':'2019-11'].columns)\n",
    "\n",
    "fig=plt.figure(figsize=(20, 7))\n",
    "dendrogram(linked,\n",
    "            orientation='top',\n",
    "            labels=labelList,\n",
    "            distance_sort='descending')\n",
    "plt.title('Hierarchical Clustering 09-20, method=\"Complete\", metric=\"Correlation\"')\n",
    "plt.xticks(rotation=45)\n",
    "plt.show()\n",
    "fig.savefig('Graphs\\Hierarchical_Clustering_09_20_Corr_Comp.png',bbbox_inches='tight')"
   ]
  },
  {
   "cell_type": "markdown",
   "metadata": {},
   "source": [
    "## PCA Analysis\n",
    "\n",
    "In order to go further in to our analysis with the VAR estimation model we must first redefine our variable set. We must exclude from our clustering analysis the standalone variables."
   ]
  },
  {
   "cell_type": "code",
   "execution_count": null,
   "metadata": {
    "scrolled": true
   },
   "outputs": [],
   "source": [
    "from sklearn.preprocessing import StandardScaler\n",
    "print (Money['2009-06':'2019-11'].shape)\n",
    "Money_St = StandardScaler().fit_transform(Money['2009-06':'2019-11'])\n",
    "Money_St=pd.DataFrame(Money_St,columns=list(Money['2009-06':'2019-11'].columns),index=Money['2009-06':'2019-11'].index)\n",
    "Money_new=Money_St.drop(columns=['SP500','CPILFESL','PPIACO'])\n",
    "Money_new.head()"
   ]
  },
  {
   "cell_type": "code",
   "execution_count": null,
   "metadata": {},
   "outputs": [],
   "source": [
    "Uncertainty=Money_t[['VIX','USPUI','FEDFUNDS','EXCSRESNS']]\n",
    "print(Uncertainty.shape)\n",
    "Uncertainty.head()"
   ]
  },
  {
   "cell_type": "markdown",
   "metadata": {},
   "source": [
    "# Vector Autoregression (VAR)\n",
    "\n",
    "Find the first differences of the time series"
   ]
  },
  {
   "cell_type": "code",
   "execution_count": null,
   "metadata": {},
   "outputs": [],
   "source": [
    "Moneyfd1=Money_St[['SP500','CPILFESL','T10Y3M','VIX','INDPRO','EXCSRESNS','MULT','DCOILWTICO']]\n",
    "Moneyfd=Moneyfd1.diff()\n",
    "Moneyfd.dropna(axis=0,inplace=True)\n",
    "Moneyfd.head()"
   ]
  },
  {
   "cell_type": "markdown",
   "metadata": {},
   "source": [
    "## Visualize the Time Series"
   ]
  },
  {
   "cell_type": "code",
   "execution_count": null,
   "metadata": {},
   "outputs": [],
   "source": [
    "#Import Statsmodels\n",
    "from statsmodels.tsa.api import VAR\n",
    "from statsmodels.tsa.stattools import adfuller\n",
    "from statsmodels.tools.eval_measures import rmse, aic"
   ]
  },
  {
   "cell_type": "code",
   "execution_count": null,
   "metadata": {},
   "outputs": [],
   "source": [
    "fig, axes = plt.subplots(nrows=4, ncols=2, dpi=120, figsize=(10,6))\n",
    "for i, ax in enumerate(axes.flatten()):\n",
    "    if i!=7:\n",
    "        data = Moneyfd[Moneyfd.columns[i]]\n",
    "        ax.plot(data, color='red', linewidth=1)\n",
    "        # Decorations\n",
    "        ax.set_title(Moneyfd.columns[i])\n",
    "        ax.xaxis.set_ticks_position('none')\n",
    "        ax.yaxis.set_ticks_position('none')\n",
    "        ax.spines[\"top\"].set_alpha(0)\n",
    "        ax.tick_params(labelsize=6)\n",
    "    else:\n",
    "        plt.delaxes()\n",
    "    \n",
    "plt.tight_layout();\n",
    "fig.savefig('Graphs\\First_diff_Subplot.png',bbox_inches='tight')"
   ]
  },
  {
   "cell_type": "markdown",
   "metadata": {},
   "source": [
    "## Testing Causation using Granger’s Causality Test"
   ]
  },
  {
   "cell_type": "code",
   "execution_count": null,
   "metadata": {},
   "outputs": [],
   "source": [
    "from statsmodels.tsa.stattools import grangercausalitytests\n",
    "maxlag=1\n",
    "test = 'ssr_chi2test'\n",
    "def grangers_causation_matrix(data, variables, test='ssr_chi2test', verbose=False):    \n",
    "    \"\"\"Check Granger Causality of all possible combinations of the Time series.\n",
    "    The rows are the response variable, columns are predictors. The values in the table \n",
    "    are the P-Values. P-Values lesser than the significance level (0.05), implies \n",
    "    the Null Hypothesis that the coefficients of the corresponding past values is \n",
    "    zero, that is, the X does not cause Y can be rejected.\n",
    "\n",
    "    data      : pandas dataframe containing the time series variables\n",
    "    variables : list containing names of the time series variables.\n",
    "    \"\"\"\n",
    "    df = pd.DataFrame(np.zeros((len(variables), len(variables))), columns=variables, index=variables)\n",
    "    for c in df.columns:\n",
    "        for r in df.index:\n",
    "            test_result = grangercausalitytests(data[[r, c]], maxlag=maxlag, verbose=False)\n",
    "            p_values = [round(test_result[i+1][0][test][1],4) for i in range(maxlag)]\n",
    "            if verbose: print(f'Y = {r}, X = {c}, P Values = {p_values}')\n",
    "            min_p_value = np.min(p_values)\n",
    "            df.loc[r, c] = min_p_value\n",
    "    df.columns = [var + '_x' for var in variables]\n",
    "    df.index = [var + '_y' for var in variables]\n",
    "    return df\n",
    "\n",
    "MoneyGC1=grangers_causation_matrix(Moneyfd, variables = Moneyfd.columns) \n",
    "MoneyGC1"
   ]
  },
  {
   "cell_type": "code",
   "execution_count": null,
   "metadata": {},
   "outputs": [],
   "source": [
    "# Set up the matplotlib figure\n",
    "f, ax = plt.subplots(figsize=(20, 18))\n",
    "# create the heatmap\n",
    "cmap=sns.diverging_palette(10, 200, sep=20)\n",
    "sns.heatmap(MoneyGC1, cmap=cmap, vmax=1,vmin=0, center=0.05, annot=True,\n",
    "            square=False, linewidths=.5, cbar_kws={\"shrink\": .5})\n",
    "#define the place ofthe tickers in each axes\n",
    "ax.set_xticklabels(\n",
    "    ax.get_xticklabels(),\n",
    "    rotation=45,\n",
    "    horizontalalignment='right'\n",
    ");\n",
    "ax.set_yticklabels(\n",
    "    ax.get_yticklabels(),\n",
    "    rotation=0,\n",
    "    horizontalalignment='right'\n",
    ");\n",
    "plt.title('P-Value of Granger Causality with maxlag=1',)\n",
    "#set axis equal for better representation\n",
    "plt.axis('equal')\n",
    "# show\n",
    "plt.show()\n",
    "f.savefig('Graphs\\Granger_Causality_Matrix.png',bbox_inches='tight')"
   ]
  },
  {
   "cell_type": "markdown",
   "metadata": {},
   "source": [
    "The row are the Response (Y) and the columns are the predictor series (X).\n",
    "\n",
    "For example, if you take the value 0.0003 in (row 1, column 2), it refers to the p-value of MULT_x causing GSPC_y. Whereas, the 0.000 in (row 2, column 1) refers to the p-value of MULT_y causing GSPC_x.\n",
    "\n",
    "So, how to interpret the p-values?\n",
    "\n",
    "If a given p-value is < significance level (0.05), then, the corresponding X series (column) causes the Y (row).\n",
    "\n",
    "For example, P-Value of 0.0003 at (row 1, column 2) represents the p-value of the Grangers Causality test for MULT_x causing GSPC_y, which is less that the significance level of 0.05.\n",
    "\n",
    "So, you can reject the null hypothesis and conclude MULT_x causes GSPC_y.\n",
    "\n",
    "Looking at the P-Values in the above table, you can pretty much observe that all the variables (time series) in the system are interchangeably causing each other."
   ]
  },
  {
   "cell_type": "markdown",
   "metadata": {},
   "source": [
    "## Cointegration Test\n",
    "\n",
    "Cointegration test helps to establish the presence of a statistically significant connection between two or more time series.\n",
    "\n",
    "But, what does Cointegration mean?\n",
    "\n",
    "To understand that, you first need to know what is ‘order of integration’ (d).\n",
    "\n",
    "Order of integration(d) is nothing but the number of differencing required to make a non-stationary time series stationary.\n",
    "\n",
    "Now, when you have two or more time series, and there exists a linear combination of them that has an order of integration (d) less than that of the individual series, then the collection of series is said to be cointegrated.\n",
    "\n",
    "Ok?\n",
    "\n",
    "When two or more time series are cointegrated, it means they have a long run, statistically significant relationship.\n",
    "\n",
    "This is the basic premise on which Vector Autoregression(VAR) models is based on. So, it’s fairly common to implement the cointegration test before starting to build VAR models.\n",
    "\n",
    "Alright, So how to do this test?\n",
    "\n",
    "Soren Johanssen in his paper (1991) devised a procedure to implement the cointegration test.\n"
   ]
  },
  {
   "cell_type": "code",
   "execution_count": null,
   "metadata": {},
   "outputs": [],
   "source": [
    "from statsmodels.tsa.vector_ar.vecm import coint_johansen\n",
    "\n",
    "def cointegration_test(df, alpha=0.05): \n",
    "    \"\"\"Perform Johanson's Cointegration Test and Report Summary\"\"\"\n",
    "    out = coint_johansen(df,1,1)\n",
    "    d = {'0.9':0, '0.95':1, '0.99':2}\n",
    "    traces = out.lr1\n",
    "    cvts = out.cvt[:, d[str(1-alpha)]]\n",
    "    def adjust(val, length= 10): return str(val).ljust(length)\n",
    "\n",
    "    # Summary\n",
    "    print('Johansen Cointegratgion test for linear trend')\n",
    "    print('Name       ::  Test Stat > C(95%)    =>   Signif  \\n', '--'*20)\n",
    "    for col, trace, cvt in zip(df.columns, traces, cvts):\n",
    "        print(adjust(col), ':: ', adjust(round(trace,2), 9), \">\", adjust(cvt, 8), ' =>  ' , trace > cvt)\n",
    "\n",
    "cointegration_test(Moneyfd)"
   ]
  },
  {
   "cell_type": "code",
   "execution_count": null,
   "metadata": {},
   "outputs": [],
   "source": [
    " def cointegration_test(df, alpha=0.05): \n",
    "    \"\"\"Perform Johanson's Cointegration Test and Report Summary\"\"\"\n",
    "    out = coint_johansen(df,-1,1)\n",
    "    d = {'0.9':0, '0.95':1, '0.99':2}\n",
    "    traces = out.lr1\n",
    "    cvts = out.cvt[:, d[str(1-alpha)]]\n",
    "    def adjust(val, length= 10): return str(val).ljust(length)\n",
    "\n",
    "    # Summary\n",
    "    print('Johansen Cointegratgion test for no deterministic terms')\n",
    "    print('Name       ::  Test Stat > C(95%)    =>   Signif  \\n', '--'*20)\n",
    "    for col, trace, cvt in zip(df.columns, traces, cvts):\n",
    "        print(adjust(col), ':: ', adjust(round(trace,2), 9), \">\", adjust(cvt, 8), ' =>  ' , trace > cvt)\n",
    "\n",
    "cointegration_test(Moneyfd)"
   ]
  },
  {
   "cell_type": "markdown",
   "metadata": {},
   "source": [
    "## Check for Stationarity and Make the Time Series Stationary\n",
    "\n",
    "First, we implement a nice function (adfuller_test()) that writes out the results of the ADF test for any given time series and implement this function on each series one-by-one."
   ]
  },
  {
   "cell_type": "code",
   "execution_count": null,
   "metadata": {},
   "outputs": [],
   "source": [
    "def adfuller_test(series, signif=0.05, name='', verbose=False):\n",
    "    \"\"\"Perform ADFuller to test for Stationarity of given series and print report\"\"\"\n",
    "    r = adfuller(series, autolag='AIC')\n",
    "    output = {'test_statistic':round(r[0], 4), 'pvalue':round(r[1], 4), 'n_lags':round(r[2], 4), 'n_obs':r[3]}\n",
    "    p_value = output['pvalue'] \n",
    "    def adjust(val, length= 6): return str(val).ljust(length)\n",
    "\n",
    "    # Print Summary\n",
    "    print(f'    Augmented Dickey-Fuller Test on \"{name}\"', \"\\n   \", '-'*47)\n",
    "    print(f' Null Hypothesis: Data has unit root. Non-Stationary.')\n",
    "    print(f' Significance Level    = {signif}')\n",
    "    print(f' Test Statistic        = {output[\"test_statistic\"]}')\n",
    "    print(f' No. Lags Chosen       = {output[\"n_lags\"]}')\n",
    "\n",
    "    for key,val in r[4].items():\n",
    "        print(f' Critical value {adjust(key)} = {round(val, 3)}')\n",
    "\n",
    "    if p_value <= signif:\n",
    "        print(f\" => P-Value = {p_value}. Rejecting Null Hypothesis.\")\n",
    "        print(f\" => Series is Stationary.\")\n",
    "    else:\n",
    "        print(f\" => P-Value = {p_value}. Weak evidence to reject the Null Hypothesis.\")\n",
    "        print(f\" => Series is Non-Stationary.\")   "
   ]
  },
  {
   "cell_type": "code",
   "execution_count": null,
   "metadata": {},
   "outputs": [],
   "source": [
    "for name, column in Moneyfd.iteritems():\n",
    "    adfuller_test(column, name=column.name)\n",
    "    print('\\n')"
   ]
  },
  {
   "cell_type": "markdown",
   "metadata": {},
   "source": [
    "## How to Select the Order (P) of VAR model\n",
    "\n",
    "To select the right order of the VAR model, we iteratively fit increasing orders of VAR model and pick the order that gives a model with least AIC.\n",
    "\n",
    "Though the usual practice is to look at the AIC, you can also check other best fit comparison estimates of BIC, FPE and HQIC."
   ]
  },
  {
   "cell_type": "code",
   "execution_count": null,
   "metadata": {
    "scrolled": true
   },
   "outputs": [],
   "source": [
    "model = VAR(Moneyfd)\n",
    "AICC=[0]*10\n",
    "BICC=[0]*10\n",
    "FPEE=[0]*10\n",
    "HQICC=[0]*10\n",
    "for i in [1,2,3,4,5,6,7,8,9]:\n",
    "    result = model.fit(i)\n",
    "    print('Lag Order =', i)\n",
    "    AICC[i]=result.aic\n",
    "    print('AIC : ', result.aic)\n",
    "    BICC[i]=result.bic\n",
    "    print('BIC : ', result.bic)\n",
    "    FPEE[i]=result.fpe\n",
    "    print('FPE : ', result.fpe)\n",
    "    HQICC[i]=result.hqic\n",
    "    print('HQIC: ', result.hqic, '\\n')"
   ]
  },
  {
   "cell_type": "code",
   "execution_count": null,
   "metadata": {},
   "outputs": [],
   "source": [
    "fig, ax = plt.subplots(ncols=2,nrows=2,figsize = (20,10))\n",
    "ax[0,0].plot(AICC)\n",
    "ax[0,1].plot(BICC)\n",
    "ax[1,0].plot(FPEE)\n",
    "ax[1,1].plot(HQICC)\n",
    "# define the axes properties and the title of the graph\n",
    "ax[0,0].set(xlabel='time (Lag)', ylabel='AIC Value',\n",
    "       title='AIC Criterion')\n",
    "ax[0,1].set(xlabel='time (Lag)', ylabel='BIC Value',\n",
    "       title='BIC Criterion')\n",
    "ax[1,0].set(xlabel='time (Lag)', ylabel='FPE Value x 10^{-13}',\n",
    "       title='FPE Criterion')\n",
    "ax[1,1].set(xlabel='time (Lag)', ylabel='HQIC Value',\n",
    "       title='HQIC Criterion')\n",
    "#introduce grid on the plot\n",
    "ax[0,0].grid()\n",
    "ax[0,1].grid()\n",
    "ax[1,0].grid()\n",
    "ax[1,1].grid()\n",
    "#Save the plot\n",
    "fig.savefig('Graphs\\AIC_BIC_Critiria.png',bbox_inches='tight')"
   ]
  },
  {
   "cell_type": "markdown",
   "metadata": {},
   "source": [
    "In the above output, the AIC drops to lowest at lag 3, then increases at lag 3 and then continuously drops further.\n",
    "\n",
    "Let’s go with the lag 3 model."
   ]
  },
  {
   "cell_type": "markdown",
   "metadata": {},
   "source": [
    "## VAR Model of Selected Order(p)"
   ]
  },
  {
   "cell_type": "code",
   "execution_count": null,
   "metadata": {},
   "outputs": [],
   "source": [
    "model_fitted = model.fit(2)\n",
    "model_fitted.summary()"
   ]
  },
  {
   "cell_type": "code",
   "execution_count": null,
   "metadata": {},
   "outputs": [],
   "source": [
    "# var model time series of order 1\n",
    "model_fitted.plot()\n",
    "plt.show()"
   ]
  },
  {
   "cell_type": "code",
   "execution_count": null,
   "metadata": {},
   "outputs": [],
   "source": [
    "irf=model_fitted.irf(20)"
   ]
  },
  {
   "cell_type": "code",
   "execution_count": null,
   "metadata": {},
   "outputs": [],
   "source": [
    "fig=irf.plot(orth=False,subplot_params={'fontsize':9})\n",
    "plt.show()\n",
    "fig.savefig('Graphs\\ImpulseResponce.png')"
   ]
  },
  {
   "cell_type": "code",
   "execution_count": null,
   "metadata": {},
   "outputs": [],
   "source": [
    "fig1=irf.plot(orth=False,impulse='SP500',response='MacroEco',subplot_params={'fontsize':20})\n",
    "fig1.savefig('Graphs\\ImpulseResponse Int-SP500.png',bbox_inches='tight')\n",
    "\n",
    "fig2=irf.plot(orth=False,impulse='UNRATE',response='Uncertainty',subplot_params={'fontsize':20})\n",
    "fig2.savefig('Graphs\\ImpulseResponse Int-Macro.png',bbox_inches='tight')\n",
    "\n",
    "fig3=irf.plot(orth=False,impulse='International',response='SP500',subplot_params={'fontsize':20})\n",
    "fig3.savefig('Graphs\\ImpulseResponse Int-Unc.png',bbox_inches='tight')\n",
    "\n",
    "fig4=irf.plot(orth=False,impulse='International',response='SP500',subplot_params={'fontsize':20})\n",
    "fig4.savefig('Graphs\\ImpulseResponse Liq-SP500.png',bbox_inches='tight')\n",
    "\n",
    "fig5=irf.plot(orth=False,impulse='International',response='T10Y3M',subplot_params={'fontsize':20})\n",
    "fig5.savefig('Graphs\\ImpulseResponse Liq-Macro.png',bbox_inches='tight')\n",
    "\n",
    "fig6=irf.plot(orth=False,impulse='International',response='Uncertainty',subplot_params={'fontsize':20})\n",
    "fig6.savefig('Graphs\\ImpulseResponse Liq-Int.png',bbox_inches='tight')\n",
    "\n",
    "fig7=irf.plot(orth=False,impulse='International',response='MacroEco',subplot_params={'fontsize':20})\n",
    "fig7.savefig('Graphs\\ImpulseResponse Liq-Unc.png',bbox_inches='tight')\n",
    "\n",
    "\n",
    "plt.show()"
   ]
  },
  {
   "cell_type": "markdown",
   "metadata": {},
   "source": [
    "## Check for Serial Correlation of Residuals (Errors) using Durbin Watson Statistic\n",
    "\n",
    "A common way of checking for serial correlation of errors can be measured using the Durbin Watson’s Statistic.\n",
    "\n",
    "Durbin Watson Statistic - Formula\n",
    "\n",
    "$ DW=\\frac{\\sum_{t=2}^{T}(e_t-e_{t-1})^2)}{\\sum_{t=1}^{T}(e_t^2)}$\n",
    "\n",
    "The value of this statistic can vary between 0 and 4. The closer it is to the value 2, then there is no significant serial correlation. The closer to 0, there is a positive serial correlation, and the closer it is to 4 implies negative serial correlation."
   ]
  },
  {
   "cell_type": "code",
   "execution_count": null,
   "metadata": {
    "scrolled": true
   },
   "outputs": [],
   "source": [
    "from statsmodels.stats.stattools import durbin_watson\n",
    "out = durbin_watson(model_fitted.resid)\n",
    "\n",
    "for col, val in zip(Moneyfd.columns, out):\n",
    "    print(col, ':', round(val, 2))"
   ]
  },
  {
   "cell_type": "code",
   "execution_count": null,
   "metadata": {},
   "outputs": [],
   "source": []
  }
 ],
 "metadata": {
  "kernelspec": {
   "display_name": "Python 3",
   "language": "python",
   "name": "python3"
  },
  "language_info": {
   "codemirror_mode": {
    "name": "ipython",
    "version": 3
   },
   "file_extension": ".py",
   "mimetype": "text/x-python",
   "name": "python",
   "nbconvert_exporter": "python",
   "pygments_lexer": "ipython3",
   "version": "3.7.6"
  }
 },
 "nbformat": 4,
 "nbformat_minor": 4
}
