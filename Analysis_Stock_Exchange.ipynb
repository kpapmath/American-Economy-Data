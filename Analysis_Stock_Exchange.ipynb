{
 "cells": [
  {
   "cell_type": "markdown",
   "metadata": {},
   "source": [
    "# Analysis of Stock Exchange 2000-2020"
   ]
  },
  {
   "cell_type": "code",
   "execution_count": null,
   "metadata": {},
   "outputs": [],
   "source": [
    "import pandas as pd\n",
    "import numpy as np\n",
    "import matplotlib.pyplot as plt\n",
    "from pandas.plotting import register_matplotlib_converters\n",
    "register_matplotlib_converters()\n",
    "#in order to see the entire dataframe we change the option set\n",
    "pd.set_option('display.max_rows', None, 'display.max_columns', None)"
   ]
  },
  {
   "cell_type": "markdown",
   "metadata": {},
   "source": [
    "We create a directory for the Graphs. In order to do so we must import the library os."
   ]
  },
  {
   "cell_type": "code",
   "execution_count": null,
   "metadata": {},
   "outputs": [],
   "source": [
    "import os\n",
    "# if the path allready exists the do not make the directory\n",
    "if os.path.exists('Graphs')==False :\n",
    "    os.mkdir('Graphs')"
   ]
  },
  {
   "cell_type": "markdown",
   "metadata": {},
   "source": [
    "First we import the indexes that we have obltained so as to begin the analysis.\n",
    "\n",
    "This analysis will exclude the crisis period from 2001-12 to 2009-06. This period will be shown as a grey area in all the graphs."
   ]
  },
  {
   "cell_type": "markdown",
   "metadata": {},
   "source": [
    "##  Money Multiplier"
   ]
  },
  {
   "cell_type": "markdown",
   "metadata": {},
   "source": [
    "#### NOTICE: \n",
    "\n",
    "The money multiplier stops at the end of 2019"
   ]
  },
  {
   "cell_type": "code",
   "execution_count": null,
   "metadata": {},
   "outputs": [],
   "source": [
    "MULT=pd.read_csv('MULT.csv',parse_dates=['DATE'],index_col='DATE')\n",
    "MULT.head()"
   ]
  },
  {
   "cell_type": "code",
   "execution_count": null,
   "metadata": {},
   "outputs": [],
   "source": [
    "fig, ax = plt.subplots(figsize = (15,5))\n",
    "ax.plot( MULT['2000':],'b',label='MULT')\n",
    "# draw a grey bar in order to show the crisis period. \n",
    "ax.axvspan('2007-12', '2009-06', color='grey', alpha=0.5)\n",
    "# define the axes properties and the title of the graph\n",
    "ax.set(xlabel='time (14 days)', ylabel='Ratio',\n",
    "       title='M1 Money Multiplier')\n",
    "#introduce grid on the plot\n",
    "ax.grid()\n",
    "#show the plot\n",
    "plt.show()\n",
    "#Save the plot\n",
    "fig.savefig('Graphs\\M1_Money_Multiplier.jpg',optimize=True,bbox_inches='tight')"
   ]
  },
  {
   "cell_type": "markdown",
   "metadata": {},
   "source": [
    "in order to find the mean value of every month we will use the resample function with frequency =\"M\"=month nad the nimpy function \"mean\""
   ]
  },
  {
   "cell_type": "code",
   "execution_count": null,
   "metadata": {},
   "outputs": [],
   "source": [
    "MULT_MON=MULT['MULT']['2000':].resample('M').mean() \n",
    "MULT_MON.head()"
   ]
  },
  {
   "cell_type": "code",
   "execution_count": null,
   "metadata": {},
   "outputs": [],
   "source": [
    "fig, ax = plt.subplots(figsize = (15,5))\n",
    "ax.plot( MULT_MON,'b',label='MULT')\n",
    "ax.axvspan('2007-12', '2009-06', color='grey', alpha=0.5)\n",
    "# define the axes properties and the title of the graph\n",
    "ax.set(xlabel='time (Month)', ylabel='Ratio',\n",
    "       title='M1 Money Multiplier Monthly Average')\n",
    "#introduce grid on the plot\n",
    "ax.grid()\n",
    "#show the plot\n",
    "plt.show()\n",
    "#Save the plot\n",
    "fig.savefig('Graphs\\M1_Money_Multiplier_Mon_Avg.jpg',optimize=True,bbox_inches='tight')"
   ]
  },
  {
   "cell_type": "markdown",
   "metadata": {},
   "source": [
    "## Consumer Price Index"
   ]
  },
  {
   "cell_type": "code",
   "execution_count": null,
   "metadata": {},
   "outputs": [],
   "source": [
    "CPALT=pd.read_csv('CPALTT01USQ657N.csv',parse_dates=['DATE'],index_col='DATE')\n",
    "CPALT.head()"
   ]
  },
  {
   "cell_type": "code",
   "execution_count": null,
   "metadata": {},
   "outputs": [],
   "source": [
    "fig, ax = plt.subplots(figsize = (15,5))\n",
    "ax.plot( CPALT['2000':],'b',label='MULT')\n",
    "ax.axvspan('2007-12', '2009-06', color='grey', alpha=0.5)\n",
    "# define the axes properties and the title of the graph\n",
    "ax.set(xlabel='time (Quarters)', ylabel='Growth Rate Previous Period',\n",
    "       title='Consumer Price Index: Total All Items for the United States')\n",
    "#introduce grid on the plot\n",
    "ax.grid()\n",
    "#show the plot\n",
    "plt.show()\n",
    "#Save the plot\n",
    "fig.savefig('Graphs\\Consumer_Price_Index.png',bbox_inches='tight')"
   ]
  },
  {
   "cell_type": "markdown",
   "metadata": {},
   "source": [
    "##  Consumer Price Index for All Urban Consumers"
   ]
  },
  {
   "cell_type": "code",
   "execution_count": null,
   "metadata": {},
   "outputs": [],
   "source": [
    "CPIL=pd.read_csv('CPILFESL.csv',parse_dates=['DATE'],index_col='DATE')\n",
    "CPIL.head()"
   ]
  },
  {
   "cell_type": "code",
   "execution_count": null,
   "metadata": {},
   "outputs": [],
   "source": [
    "fig, ax = plt.subplots(figsize = (15,5))\n",
    "ax.plot( CPIL['2000':],'b',label='CPILCPIL')\n",
    "ax.axvspan('2007-12', '2009-06', color='grey', alpha=0.5)\n",
    "# define the axes properties and the title of the graph\n",
    "ax.set(xlabel='time (months)', ylabel='Index 1982:1984=100',\n",
    "       title='Consumer Price Index for All Urban Consumers: All Items Less Food and Energy in U.S. City Average')\n",
    "#introduce grid on the plot\n",
    "ax.grid()\n",
    "#show the plot\n",
    "plt.show()\n",
    "#Save the plot\n",
    "fig.savefig('Graphs\\Consumer_Price_Index_All.png',bbox_inches='tight')"
   ]
  },
  {
   "cell_type": "markdown",
   "metadata": {},
   "source": [
    "## Bank Prime Loan Rate"
   ]
  },
  {
   "cell_type": "raw",
   "metadata": {},
   "source": [
    "For the DPRIME variable we can observe that we have missing values. The basic problem is that all data are represented as object and not float values"
   ]
  },
  {
   "cell_type": "code",
   "execution_count": null,
   "metadata": {},
   "outputs": [],
   "source": [
    "Dprime=pd.read_csv('DPRIME.csv',parse_dates=['DATE'],index_col='DATE')\n",
    "Dprime.head()"
   ]
  },
  {
   "cell_type": "markdown",
   "metadata": {},
   "source": [
    "We replace the missing values which was represented as \".\" in the original Dataset with the np.NaN value"
   ]
  },
  {
   "cell_type": "code",
   "execution_count": null,
   "metadata": {},
   "outputs": [],
   "source": [
    "Drime=Dprime.replace(\".\",np.NaN)\n",
    "Dprime.head()"
   ]
  },
  {
   "cell_type": "code",
   "execution_count": null,
   "metadata": {},
   "outputs": [],
   "source": [
    "Dprime.dtypes"
   ]
  },
  {
   "cell_type": "markdown",
   "metadata": {},
   "source": [
    "We convert the string series to float values"
   ]
  },
  {
   "cell_type": "code",
   "execution_count": null,
   "metadata": {},
   "outputs": [],
   "source": [
    "Dprime ['DPRIME'] = pd.to_numeric(Dprime['DPRIME'], errors='coerce')\n",
    "Dprime.dtypes"
   ]
  },
  {
   "cell_type": "markdown",
   "metadata": {},
   "source": [
    "We the fill the NaN values with the previous values. This method considerd the optimal for this dataset because there is a contiouty in the values of the data"
   ]
  },
  {
   "cell_type": "code",
   "execution_count": null,
   "metadata": {},
   "outputs": [],
   "source": [
    "Dprime=Dprime.fillna(method='bfill')"
   ]
  },
  {
   "cell_type": "code",
   "execution_count": null,
   "metadata": {},
   "outputs": [],
   "source": [
    "fig, ax = plt.subplots(figsize = (15,5))\n",
    "ax.plot(Dprime['2000':],'b',label='DPRIME')\n",
    "ax.axvspan('2007-12', '2009-06', color='grey', alpha=0.5)\n",
    "# define the axes properties and the title of the graph\n",
    "ax.set(xlabel='time (day)', ylabel='Percent',\n",
    "       title='Bank Prime Loan Rate')\n",
    "#introduce grid on the plot\n",
    "ax.grid()\n",
    "#show the plot\n",
    "plt.show()\n",
    "#Save the plot\n",
    "fig.savefig('Graphs\\Bank_Prime_Loan.png',bbox_inches='tight')"
   ]
  },
  {
   "cell_type": "code",
   "execution_count": null,
   "metadata": {},
   "outputs": [],
   "source": [
    "DPRIME_MON=Dprime['DPRIME']['2000':'2020-02'].resample('M').mean() \n",
    "DPRIME_MON.head()"
   ]
  },
  {
   "cell_type": "code",
   "execution_count": null,
   "metadata": {},
   "outputs": [],
   "source": [
    "fig, ax = plt.subplots(figsize = (15,5))\n",
    "ax.plot(DPRIME_MON,'b',label='DPRIME')\n",
    "ax.axvspan('2007-12', '2009-06', color='grey', alpha=0.5)\n",
    "# define the axes properties and the title of the graph\n",
    "ax.set(xlabel='time (Month)', ylabel='Percent',\n",
    "       title='Bank Prime Loan Rate Monthly Average')\n",
    "#introduce grid on the plot\n",
    "ax.grid()\n",
    "#show the plot\n",
    "plt.show()\n",
    "#Save the plot\n",
    "fig.savefig('Graphs\\Bank_Prime_Loan.png',bbox_inches='tight')"
   ]
  },
  {
   "cell_type": "markdown",
   "metadata": {},
   "source": [
    "##  Excess Reserves of Depository Institutions"
   ]
  },
  {
   "cell_type": "code",
   "execution_count": null,
   "metadata": {},
   "outputs": [],
   "source": [
    "EXCSR=pd.read_csv('EXCSRESNS.csv',parse_dates=['DATE'],index_col='DATE')\n",
    "EXCSR.head()"
   ]
  },
  {
   "cell_type": "code",
   "execution_count": null,
   "metadata": {},
   "outputs": [],
   "source": [
    "fig, ax = plt.subplots(figsize = (15,5))\n",
    "ax.plot(EXCSR['2000':],'b',label='EXCSR')\n",
    "ax.axvspan('2007-12', '2009-06', color='grey', alpha=0.5)\n",
    "# define the axes properties and the title of the graph\n",
    "ax.set(xlabel='time (Month)', ylabel='Millinos of $',\n",
    "       title='Excess Reserves of Depository Institutions')\n",
    "#introduce grid on the plot\n",
    "ax.grid()\n",
    "#show the plot\n",
    "plt.show()\n",
    "#Save the plot\n",
    "fig.savefig('Graphs\\Excess_Reserves_of_Depository.png',bbox_inches='tight')"
   ]
  },
  {
   "cell_type": "code",
   "execution_count": null,
   "metadata": {},
   "outputs": [],
   "source": [
    "EXCSR_MON=EXCSR.EXCSRESNS['2000':].resample('M').mean()/100\n",
    "EXCSR_MON.head()"
   ]
  },
  {
   "cell_type": "code",
   "execution_count": null,
   "metadata": {},
   "outputs": [],
   "source": [
    "EXCSR_norm=(EXCSR_MON-EXCSR_MON.mean())/(EXCSR_MON.std())\n",
    "EXCSR_norm.head()"
   ]
  },
  {
   "cell_type": "code",
   "execution_count": null,
   "metadata": {},
   "outputs": [],
   "source": [
    "fig, ax = plt.subplots(figsize = (15,5))\n",
    "ax.plot(EXCSR_norm,'b',label='EXCSR')\n",
    "ax.axvspan('2007-12', '2009-06', color='grey', alpha=0.5)\n",
    "# define the axes properties and the title of the graph\n",
    "ax.set(xlabel='time (Month)', ylabel='Millinos of $',\n",
    "       title='Excess Reserves of Depository Institutions Normalized')\n",
    "#introduce grid on the plot\n",
    "ax.grid()\n",
    "#show the plot\n",
    "plt.show()\n",
    "#Save the plot\n",
    "fig.savefig('Graphs\\Excess_Reserves_of_Depository_Norm.png',bbox_inches='tight')"
   ]
  },
  {
   "cell_type": "markdown",
   "metadata": {},
   "source": [
    "## Effective Federal Funds Rate"
   ]
  },
  {
   "cell_type": "code",
   "execution_count": null,
   "metadata": {},
   "outputs": [],
   "source": [
    "FED=pd.read_csv('FEDFUNDS.csv',parse_dates=['DATE'],index_col='DATE')\n",
    "FED['2000':].head()"
   ]
  },
  {
   "cell_type": "code",
   "execution_count": null,
   "metadata": {},
   "outputs": [],
   "source": [
    "fig, ax = plt.subplots(figsize = (15,5))\n",
    "ax.plot(FED['2000':],'b',label='FED')\n",
    "ax.axvspan('2007-12', '2009-06', color='grey', alpha=0.5)\n",
    "# define the axes properties and the title of the graph\n",
    "ax.set(xlabel='time (Month)', ylabel='Percent',\n",
    "       title='Effective Federal Funds Rate')\n",
    "#introduce grid on the plot\n",
    "ax.grid()\n",
    "#show the plot\n",
    "plt.show()\n",
    "#Save the plot\n",
    "fig.savefig('Graphs\\Effective_Federal_Funds_Rate_Mon_Avg.png',bbox_inches='tight')"
   ]
  },
  {
   "cell_type": "code",
   "execution_count": null,
   "metadata": {},
   "outputs": [],
   "source": [
    "FED_MON=FED.FEDFUNDS['2000':].resample('M').mean()\n",
    "FED_MON.head()"
   ]
  },
  {
   "cell_type": "markdown",
   "metadata": {},
   "source": [
    "## Inflation, consumer prices for the United States"
   ]
  },
  {
   "cell_type": "code",
   "execution_count": null,
   "metadata": {},
   "outputs": [],
   "source": [
    "INF=pd.read_csv('FPCPITOTLZGUSA.csv',parse_dates=['DATE'],index_col='DATE')\n",
    "INF.head()"
   ]
  },
  {
   "cell_type": "code",
   "execution_count": null,
   "metadata": {},
   "outputs": [],
   "source": [
    "fig, ax = plt.subplots(figsize = (15,5))\n",
    "ax.plot(INF['2000':],'b',label='INF')\n",
    "ax.axvspan('2007-12', '2009-06', color='grey', alpha=0.5)\n",
    "# define the axes properties and the title of the graph\n",
    "ax.set(xlabel='time (Year)', ylabel='Percent',\n",
    "       title='Inflation, consumer prices for the United States')\n",
    "#introduce grid on the plot\n",
    "ax.grid()\n",
    "#show the plot\n",
    "plt.show()\n",
    "#Save the plot\n",
    "fig.savefig('Graphs\\Inflation.png',bbox_inches='tight')"
   ]
  },
  {
   "cell_type": "markdown",
   "metadata": {},
   "source": [
    "## Money Velocity"
   ]
  },
  {
   "cell_type": "code",
   "execution_count": null,
   "metadata": {},
   "outputs": [],
   "source": [
    "M1V=pd.read_csv('M1V.csv',parse_dates=['DATE'],index_col='DATE')\n",
    "M1V.head()"
   ]
  },
  {
   "cell_type": "code",
   "execution_count": null,
   "metadata": {},
   "outputs": [],
   "source": [
    "fig, ax = plt.subplots(figsize = (15,5))\n",
    "ax.plot(M1V['2000':],'b',label='M1V')\n",
    "ax.axvspan('2007-12', '2009-06', color='grey', alpha=0.5)\n",
    "# define the axes properties and the title of the graph\n",
    "ax.set(xlabel='time (Quarters)', ylabel='Ratio',\n",
    "       title='Velocity of M1 Money Stock')\n",
    "#introduce grid on the plot\n",
    "ax.grid()\n",
    "#show the plot\n",
    "plt.show()\n",
    "#Save the plot\n",
    "fig.savefig('Graphs\\Velocity_of_M1_Money.png',bbox_inches='tight')"
   ]
  },
  {
   "cell_type": "code",
   "execution_count": null,
   "metadata": {},
   "outputs": [],
   "source": [
    "M2V=pd.read_csv('M2V.csv',parse_dates=['DATE'],index_col='DATE')\n",
    "M2V.head()"
   ]
  },
  {
   "cell_type": "code",
   "execution_count": null,
   "metadata": {},
   "outputs": [],
   "source": [
    "fig, ax = plt.subplots(figsize = (15,5))\n",
    "ax.plot(M2V['2000':],'b',label='M2V')\n",
    "ax.axvspan('2007-12', '2009-06', color='grey', alpha=0.5)\n",
    "# define the axes properties and the title of the graph\n",
    "ax.set(xlabel='time (Quarters)', ylabel='Ratio',\n",
    "       title='Velocity of M2 Money Stock')\n",
    "#introduce grid on the plot\n",
    "ax.grid()\n",
    "#show the plot\n",
    "plt.show()\n",
    "#Save the plot\n",
    "fig.savefig('Graphs\\Velocity_of_M2_Money.png',bbox_inches='tight')"
   ]
  },
  {
   "cell_type": "code",
   "execution_count": null,
   "metadata": {},
   "outputs": [],
   "source": [
    "MZMV=pd.read_csv('MZMV.csv',parse_dates=['DATE'],index_col='DATE')\n",
    "MZMV.head()"
   ]
  },
  {
   "cell_type": "code",
   "execution_count": null,
   "metadata": {},
   "outputs": [],
   "source": [
    "fig, ax = plt.subplots(figsize = (15,5))\n",
    "ax.plot(MZMV['2000':],'b',label='MZMV')\n",
    "ax.axvspan('2007-12', '2009-06', color='grey', alpha=0.5)\n",
    "# define the axes properties and the title of the graph\n",
    "ax.set(xlabel='time (Quarters)', ylabel='Ratio',\n",
    "       title='Velocity of MZM Money Stock')\n",
    "#introduce grid on the plot\n",
    "ax.grid()\n",
    "#show the plot\n",
    "plt.show()\n",
    "#Save the plot\n",
    "fig.savefig('Graphs\\Velocity_of_MZM_Money.png',bbox_inches='tight')"
   ]
  },
  {
   "cell_type": "markdown",
   "metadata": {},
   "source": [
    "Plot all money velocities in one graph"
   ]
  },
  {
   "cell_type": "code",
   "execution_count": null,
   "metadata": {},
   "outputs": [],
   "source": [
    "fig, ax = plt.subplots(figsize = (15,5))\n",
    "ax.plot(M1V['2000':],'b',label='M1V')\n",
    "ax.plot(M2V['2000':],'r',label='M2V')\n",
    "ax.plot(MZMV['2000':],'g',label='MZMV')\n",
    "ax.axvspan('2007-12', '2009-06', color='grey', alpha=0.5)\n",
    "# define the axes properties and the title of the graph\n",
    "ax.set(xlabel='time (Quarters)', ylabel='Ratio',\n",
    "       title='Velocities of all Money Stock')\n",
    "#insert a legend\n",
    "ax.legend(loc='best')\n",
    "#introduce grid on the plot\n",
    "ax.grid()\n",
    "#show the plot\n",
    "plt.show()\n",
    "#Save the plot\n",
    "fig.savefig('Graphs\\Velocity_of_Money.png',bbox_inches='tight')"
   ]
  },
  {
   "cell_type": "code",
   "execution_count": null,
   "metadata": {},
   "outputs": [],
   "source": [
    "fig, ax = plt.subplots(figsize = (15,5))\n",
    "ax.plot(M2V['2000':],'r',label='M2V')\n",
    "ax.plot(MZMV['2000':],'g',label='MZMV')\n",
    "ax.axvspan('2007-12', '2009-06', color='grey', alpha=0.5)\n",
    "# define the axes properties and the title of the graph\n",
    "ax.set(xlabel='time (Quarters)', ylabel='Ratio',\n",
    "       title='Velocities of M2 & MZM Money Stock')\n",
    "#insert a legend\n",
    "ax.legend(loc='best')\n",
    "#introduce grid on the plot\n",
    "ax.grid()\n",
    "#show the plot\n",
    "plt.show()\n",
    "#Save the plot\n",
    "fig.savefig('Graphs\\Velocity_of_M2_MZM_Money.png',bbox_inches='tight')"
   ]
  },
  {
   "cell_type": "markdown",
   "metadata": {},
   "source": [
    "Create a single dataframe drom M2 and MZM Money Stock Dataframes with the merge function.\n",
    "\n",
    "Merge is only for 2 dataframes"
   ]
  },
  {
   "cell_type": "code",
   "execution_count": null,
   "metadata": {},
   "outputs": [],
   "source": [
    "VMONST=pd.merge(M2V,MZMV,on='DATE', how='outer', indicator=True)\n",
    "VMONST.head()"
   ]
  },
  {
   "cell_type": "markdown",
   "metadata": {},
   "source": [
    "Create a single datraframe with all the Money Stock Values with concat function"
   ]
  },
  {
   "cell_type": "code",
   "execution_count": null,
   "metadata": {},
   "outputs": [],
   "source": [
    "VMONSTA=pd.concat([M1V['1980-11-03':],M2V.M2V,MZMV.MZMV],axis=1)\n",
    "VMONSTA.head()"
   ]
  },
  {
   "cell_type": "markdown",
   "metadata": {},
   "source": [
    "## Total Savings Deposits at all Depository Institutions"
   ]
  },
  {
   "cell_type": "code",
   "execution_count": null,
   "metadata": {},
   "outputs": [],
   "source": [
    "WSAV=pd.read_csv('WSAVNS.csv',parse_dates=['DATE'],index_col='DATE')\n",
    "WSAV.head()"
   ]
  },
  {
   "cell_type": "code",
   "execution_count": null,
   "metadata": {},
   "outputs": [],
   "source": [
    "fig, ax = plt.subplots(figsize = (15,5))\n",
    "ax.plot(WSAV['2000':],'b',label='WSAV')\n",
    "ax.axvspan('2007-12', '2009-06', color='grey', alpha=0.5)\n",
    "# define the axes properties and the title of the graph\n",
    "ax.set(xlabel='time (Week)', ylabel='Billions of $',\n",
    "       title='Total Savings Deposits at all Depository Institutions')\n",
    "#introduce grid on the plot\n",
    "ax.grid()\n",
    "#show the plot\n",
    "plt.show()\n",
    "#Save the plot\n",
    "fig.savefig('Graphs\\Total_Savings_Deposits.png',bbox_inches='tight')"
   ]
  },
  {
   "cell_type": "code",
   "execution_count": null,
   "metadata": {},
   "outputs": [],
   "source": [
    "WSAV_MON=WSAV['WSAVNS']['2000':].resample('M').mean()\n",
    "WSAV_MON.head()"
   ]
  },
  {
   "cell_type": "code",
   "execution_count": null,
   "metadata": {
    "scrolled": true
   },
   "outputs": [],
   "source": [
    "fig, ax = plt.subplots(figsize = (15,5))\n",
    "ax.plot(WSAV_MON,'b',label='WSAV_MON')\n",
    "ax.axvspan('2007-12', '2009-06', color='grey', alpha=0.5)\n",
    "# define the axes properties and the title of the graph\n",
    "ax.set(xlabel='time (Week)', ylabel='Billions of $',\n",
    "       title='Total Savings Deposits at all Depository Institutions Monthly Average')\n",
    "#introduce grid on the plot\n",
    "ax.grid()\n",
    "#show the plot\n",
    "plt.show()\n",
    "#Save the plot\n",
    "fig.savefig('Graphs\\Total_Savings_Deposits_Mon_Avg.png',bbox_inches='tight')"
   ]
  },
  {
   "cell_type": "markdown",
   "metadata": {},
   "source": [
    "Now we will normalize the values of the variable with the tranformation\n",
    "\n",
    "\\begin{equation*}\n",
    "Y = \\frac {X - \\bar{X} }{\\sigma}\n",
    "\\end{equation*}"
   ]
  },
  {
   "cell_type": "code",
   "execution_count": null,
   "metadata": {},
   "outputs": [],
   "source": [
    "WSAV_norm=(WSAV_MON-WSAV_MON.mean())/(WSAV_MON.std())\n",
    "WSAV_norm.head()"
   ]
  },
  {
   "cell_type": "markdown",
   "metadata": {},
   "source": [
    "## Money Supply"
   ]
  },
  {
   "cell_type": "code",
   "execution_count": null,
   "metadata": {},
   "outputs": [],
   "source": [
    "M1=pd.read_csv('M1.csv',parse_dates=['DATE'],index_col='DATE')\n",
    "M1.head()"
   ]
  },
  {
   "cell_type": "code",
   "execution_count": null,
   "metadata": {},
   "outputs": [],
   "source": [
    "fig, ax = plt.subplots(figsize = (15,5))\n",
    "ax.plot(M1['2000':],'b',label='M1')\n",
    "ax.axvspan('2007-12', '2009-06', color='grey', alpha=0.5)\n",
    "# define the axes properties and the title of the graph\n",
    "ax.set(xlabel='time (Week)', ylabel='Billions of $',\n",
    "       title='M1 Money Stock')\n",
    "#introduce grid on the plot\n",
    "ax.grid()\n",
    "#show the plot\n",
    "plt.show()\n",
    "#Save the plot\n",
    "fig.savefig('Graphs\\M1_Money_Stock.png',bbox_inches='tight')"
   ]
  },
  {
   "cell_type": "code",
   "execution_count": null,
   "metadata": {},
   "outputs": [],
   "source": [
    "M2=pd.read_csv('M2.csv',parse_dates=['DATE'],index_col='DATE')\n",
    "M2.head()"
   ]
  },
  {
   "cell_type": "code",
   "execution_count": null,
   "metadata": {},
   "outputs": [],
   "source": [
    "fig, ax = plt.subplots(figsize = (15,5))\n",
    "ax.plot(M2['2000':],'b',label='M2')\n",
    "ax.axvspan('2007-12', '2009-06', color='grey', alpha=0.5)\n",
    "# define the axes properties and the title of the graph\n",
    "ax.set(xlabel='time (Week)', ylabel='Billions of $',\n",
    "       title='M2 Money Stock')\n",
    "#introduce grid on the plot\n",
    "ax.grid()\n",
    "#show the plot\n",
    "plt.show()\n",
    "#Save the plot\n",
    "fig.savefig('Graphs\\M2_Money_Stock.png',bbox_inches='tight')"
   ]
  },
  {
   "cell_type": "code",
   "execution_count": null,
   "metadata": {},
   "outputs": [],
   "source": [
    "MZM=pd.read_csv('MZM.csv',parse_dates=['DATE'],index_col='DATE')\n",
    "MZM.head()"
   ]
  },
  {
   "cell_type": "code",
   "execution_count": null,
   "metadata": {},
   "outputs": [],
   "source": [
    "fig, ax = plt.subplots(figsize = (15,5))\n",
    "ax.plot(MZM['2000':],'b',label='M1')\n",
    "ax.axvspan('2007-12', '2009-06', color='grey', alpha=0.5)\n",
    "# define the axes properties and the title of the graph\n",
    "ax.set(xlabel='time (Week)', ylabel='Billions of $',\n",
    "       title='MZM Money Stock')\n",
    "#introduce grid on the plot\n",
    "ax.grid()\n",
    "#show the plot\n",
    "plt.show()\n",
    "#Save the plot\n",
    "fig.savefig('Graphs\\MZM_Money_Stock.png',bbox_inches='tight')"
   ]
  },
  {
   "cell_type": "markdown",
   "metadata": {},
   "source": [
    "Plot the money supply"
   ]
  },
  {
   "cell_type": "code",
   "execution_count": null,
   "metadata": {},
   "outputs": [],
   "source": [
    "fig, ax = plt.subplots(figsize = (15,5))\n",
    "ax.plot(M1['2000':],'b',label='M1')\n",
    "ax.plot(M2['2000':],'g',label='M2')\n",
    "ax.plot(MZM['2000':],'r',label='MZM')\n",
    "ax.axvspan('2007-12', '2009-06', color='grey', alpha=0.5)\n",
    "# define the axes properties and the title of the graph\n",
    "ax.set(xlabel='time (Week)', ylabel='Billions of $',\n",
    "       title='Money Stock')\n",
    "#insert a legend\n",
    "ax.legend(loc='best')\n",
    "#introduce grid on the plot\n",
    "ax.grid()\n",
    "#show the plot\n",
    "plt.show()\n",
    "#Save the plot\n",
    "fig.savefig('Graphs\\Money_Stock.png',bbox_inches='tight')"
   ]
  },
  {
   "cell_type": "code",
   "execution_count": null,
   "metadata": {},
   "outputs": [],
   "source": [
    "fig, ax = plt.subplots(nrows=2,ncols=1,figsize = (15,10))\n",
    "ax[0].plot(M2['2000':],'g',label='M2')\n",
    "ax[0].plot(MZM['2000':],'r',label='MZM')\n",
    "ax[0].axvspan('2007-12', '2009-06', color='grey', alpha=0.5)\n",
    "# define the axes properties and the title of the graph\n",
    "ax[0].set(xlabel='time (Week)', ylabel='Billions of $',\n",
    "       title='M2 - MZM Money Stock')\n",
    "#insert a legend\n",
    "ax[0].legend(loc='best')\n",
    "#introduce grid on the plot\n",
    "ax[0].grid()\n",
    "ax[1].plot(M2V['2000':]['2000':],'g',label='M2V')\n",
    "ax[1].plot(MZMV['2000':],'r',label='MZMV')\n",
    "# define the axes properties and the title of the graph\n",
    "ax[1].set(xlabel='time (Quarters)', ylabel='Ratio',\n",
    "       title='Velocities of M2 & MZM Money Stock')\n",
    "#insert a legend\n",
    "ax[1].legend(loc='best')\n",
    "#introduce grid on the plot\n",
    "ax[1].axvspan('2007-12', '2009-06', color='grey', alpha=0.5)\n",
    "ax[1].grid()\n",
    "#Save the plot\n",
    "fig.savefig('Graphs\\M2_MZM_Money_Stock_V.png',bbox_inches='tight')"
   ]
  },
  {
   "cell_type": "code",
   "execution_count": null,
   "metadata": {},
   "outputs": [],
   "source": [
    "M2_MON=M2.M2['2000':].resample('M').mean()\n",
    "M2_MON.head()"
   ]
  },
  {
   "cell_type": "code",
   "execution_count": null,
   "metadata": {},
   "outputs": [],
   "source": [
    "MZM_MON=MZM.MZM['2000':].resample('M').mean()\n",
    "MZM_MON.head()"
   ]
  },
  {
   "cell_type": "code",
   "execution_count": null,
   "metadata": {
    "scrolled": true
   },
   "outputs": [],
   "source": [
    "fig, ax = plt.subplots(figsize = (15,5))\n",
    "ax.plot(M2_MON,'g',label='M2')\n",
    "ax.plot(MZM_MON,'r',label='MZM')\n",
    "ax.axvspan('2007-12', '2009-06', color='grey', alpha=0.5)\n",
    "# define the axes properties and the title of the graph\n",
    "ax.set(xlabel='time (Week)', ylabel='Billions of $',\n",
    "       title='M2 - MZM Money Stock Monthly Average')\n",
    "#insert a legend\n",
    "ax.legend(loc='best')\n",
    "fig.savefig('Graphs\\M2_MZM_Money_Stock_Mon_Avg.png',bbox_inches='tight')"
   ]
  },
  {
   "cell_type": "code",
   "execution_count": null,
   "metadata": {},
   "outputs": [],
   "source": [
    "M2_norm=(M2_MON-M2_MON.mean())/(M2_MON.std())\n",
    "M2_norm.head()"
   ]
  },
  {
   "cell_type": "code",
   "execution_count": null,
   "metadata": {},
   "outputs": [],
   "source": [
    "MZM_norm=(MZM_MON-MZM_MON.mean())/(MZM_MON.std())\n",
    "MZM_norm.head()"
   ]
  },
  {
   "cell_type": "code",
   "execution_count": null,
   "metadata": {},
   "outputs": [],
   "source": [
    "fig, ax = plt.subplots(figsize = (15,5))\n",
    "ax.plot(M2_norm,'g',label='M2')\n",
    "ax.plot(MZM_norm,'r',label='MZM')\n",
    "ax.axvspan('2007-12', '2009-06', color='grey', alpha=0.5)\n",
    "# define the axes properties and the title of the graph\n",
    "ax.set(xlabel='time (Week)', ylabel='Billions of $',\n",
    "       title='M2 - MZM Money Stock Normalized')\n",
    "#insert a legend\n",
    "ax.legend(loc='best')\n",
    "fig.savefig('Graphs\\M2_MZM_Money_Stock_Norm.png',bbox_inches='tight')"
   ]
  },
  {
   "cell_type": "markdown",
   "metadata": {},
   "source": [
    "## 10-Year Treasury Constant Maturity Minus 3-Month Treasury Constant Maturity"
   ]
  },
  {
   "cell_type": "markdown",
   "metadata": {},
   "source": [
    "This data set has missing values"
   ]
  },
  {
   "cell_type": "code",
   "execution_count": null,
   "metadata": {},
   "outputs": [],
   "source": [
    "TYM=pd.read_csv('T10Y3M.csv',parse_dates=['DATE'],index_col='DATE')"
   ]
  },
  {
   "cell_type": "code",
   "execution_count": null,
   "metadata": {},
   "outputs": [],
   "source": [
    "type(TYM.T10Y3M[0])"
   ]
  },
  {
   "cell_type": "markdown",
   "metadata": {},
   "source": [
    "In order to fill the blank cells we will make use of the interpolation linear method "
   ]
  },
  {
   "cell_type": "code",
   "execution_count": null,
   "metadata": {},
   "outputs": [],
   "source": [
    "TYM=TYM.replace(\".\",np.NaN)\n",
    "TYM ['T10Y3M'] = pd.to_numeric(TYM['T10Y3M'], errors='coerce')\n",
    "TYM=TYM.interpolate(method='linear',axis=0)\n",
    "TYM.head()"
   ]
  },
  {
   "cell_type": "code",
   "execution_count": null,
   "metadata": {},
   "outputs": [],
   "source": [
    "type(TYM.T10Y3M[0])"
   ]
  },
  {
   "cell_type": "code",
   "execution_count": null,
   "metadata": {},
   "outputs": [],
   "source": [
    "fig, ax = plt.subplots(figsize = (15,5))\n",
    "ax.plot(TYM['2000':],'b',label='TYM')\n",
    "ax.axvspan('2007-12', '2009-06', color='grey', alpha=0.5)\n",
    "# define the axes properties and the title of the graph\n",
    "ax.set(xlabel='time (day)', ylabel='Percent',\n",
    "       title='10-Year Treasury Constant Maturity Minus 3-Month Treasury Constant Maturity')\n",
    "#introduce grid on the plot\n",
    "ax.grid()\n",
    "#show the plot\n",
    "plt.show()\n",
    "#Save the plot\n",
    "fig.savefig('Graphs\\Treasury_Constant_Maturity.png',bbox_inches='tight')"
   ]
  },
  {
   "cell_type": "code",
   "execution_count": null,
   "metadata": {
    "scrolled": true
   },
   "outputs": [],
   "source": [
    "TYM_MON=TYM['T10Y3M']['2000':'2020-02'].resample('M').mean()/100\n",
    "TYM_MON.head()"
   ]
  },
  {
   "cell_type": "code",
   "execution_count": null,
   "metadata": {},
   "outputs": [],
   "source": [
    "TYM_MON.tail()"
   ]
  },
  {
   "cell_type": "code",
   "execution_count": null,
   "metadata": {},
   "outputs": [],
   "source": [
    "fig, ax = plt.subplots(figsize = (15,5))\n",
    "ax.plot(TYM_MON,'b',label='TYM')\n",
    "ax.axvspan('2007-12', '2009-06', color='grey', alpha=0.5)\n",
    "# define the axes properties and the title of the graph\n",
    "ax.set(xlabel='time (Month)', ylabel='Percent',\n",
    "       title='10-Year Treasury Constant Maturity Minus 3-Month Treasury Constant Maturity Monthly Average')\n",
    "#introduce grid on the plot\n",
    "ax.grid()\n",
    "#show the plot\n",
    "plt.show()\n",
    "#Save the plot\n",
    "fig.savefig('Graphs\\Treasury_Constant_Maturity_Mon_Avg.png',bbox_inches='tight')"
   ]
  },
  {
   "cell_type": "markdown",
   "metadata": {},
   "source": [
    "## S&P 500 Index"
   ]
  },
  {
   "cell_type": "code",
   "execution_count": null,
   "metadata": {},
   "outputs": [],
   "source": [
    "GSPC=pd.read_csv('^GSPC.csv',parse_dates=['Date'],index_col='Date')\n",
    "GSPC.head()"
   ]
  },
  {
   "cell_type": "code",
   "execution_count": null,
   "metadata": {},
   "outputs": [],
   "source": [
    "GSPC.tail()"
   ]
  },
  {
   "cell_type": "code",
   "execution_count": null,
   "metadata": {},
   "outputs": [],
   "source": [
    "GSPC_MON=GSPC['Close']['2000':'2020-02'].resample('M').mean()\n",
    "# rename the column of the newly created series\n",
    "GSPC_MON.rename('SP500', inplace=True)\n",
    "GSPC_MON.head()"
   ]
  },
  {
   "cell_type": "code",
   "execution_count": null,
   "metadata": {},
   "outputs": [],
   "source": [
    "fig, ax = plt.subplots(figsize = (15,5))\n",
    "ax.plot(GSPC_MON,'b',label='GSPC')\n",
    "ax.axvspan('2007-12', '2009-06', color='grey', alpha=0.5)\n",
    "# define the axes properties and the title of the graph\n",
    "ax.set(xlabel='time (Month)', ylabel='Index Value',\n",
    "       title='S&P 500 Adj Close Monthly Average')\n",
    "#introduce grid on the plot\n",
    "ax.grid()\n",
    "#Save the plot\n",
    "fig.savefig('Graphs\\SP_500_Mon_Avg.png',bbox_inches='tight')"
   ]
  },
  {
   "cell_type": "code",
   "execution_count": null,
   "metadata": {},
   "outputs": [],
   "source": [
    "GSPC_norm=(GSPC_MON-GSPC_MON.mean())/(GSPC_MON.std())\n",
    "GSPC_norm.head()"
   ]
  },
  {
   "cell_type": "code",
   "execution_count": null,
   "metadata": {},
   "outputs": [],
   "source": [
    "fig, ax = plt.subplots(figsize = (15,5))\n",
    "ax.plot(GSPC_norm,'b',label='GSPC')\n",
    "ax.axvspan('2007-12', '2009-06', color='grey', alpha=0.5)\n",
    "# define the axes properties and the title of the graph\n",
    "ax.set(xlabel='time (Month)', ylabel='Index Value',\n",
    "       title='S&P 500 Adj Close Normalized')\n",
    "#introduce grid on the plot\n",
    "ax.grid()\n",
    "#Save the plot\n",
    "fig.savefig('Graphs\\SP_500_Norm.png',bbox_inches='tight')"
   ]
  },
  {
   "cell_type": "markdown",
   "metadata": {},
   "source": [
    "## US Policy Uncertainty Data"
   ]
  },
  {
   "cell_type": "code",
   "execution_count": null,
   "metadata": {},
   "outputs": [],
   "source": [
    "USP=pd.read_excel('US_Policy_Uncertainty_Data.xlsx','Main Index')\n",
    "USP.head()"
   ]
  },
  {
   "cell_type": "code",
   "execution_count": null,
   "metadata": {},
   "outputs": [],
   "source": [
    "type(USP.Year[1])"
   ]
  },
  {
   "cell_type": "code",
   "execution_count": null,
   "metadata": {},
   "outputs": [],
   "source": [
    "USP['Date']=pd.to_datetime(USP[['Year','Month','Day']])\n",
    "USP.head()"
   ]
  },
  {
   "cell_type": "code",
   "execution_count": null,
   "metadata": {
    "scrolled": true
   },
   "outputs": [],
   "source": [
    "USP.set_index('Date',inplace=True)\n",
    "USP.head()"
   ]
  },
  {
   "cell_type": "code",
   "execution_count": null,
   "metadata": {},
   "outputs": [],
   "source": [
    "USP.drop(columns=['Year','Month','Day'],axis=1,inplace=True)\n",
    "USP.head()"
   ]
  },
  {
   "cell_type": "code",
   "execution_count": null,
   "metadata": {},
   "outputs": [],
   "source": [
    "USP_MON=USP['Three_Component_Index']['2000':].resample('M').mean()\n",
    "# rename the column of the newly created series\n",
    "USP_MON.rename('USPUI', inplace=True)\n",
    "USP_MON.head()"
   ]
  },
  {
   "cell_type": "code",
   "execution_count": null,
   "metadata": {},
   "outputs": [],
   "source": [
    "f, ax = plt.subplots(figsize = (15,5))\n",
    "ax.plot(USP_MON,'b',label='USP')\n",
    "ax.axvspan('2007-12', '2009-06', color='grey', alpha=0.5)\n",
    "# define the axes properties and the title of the graph\n",
    "ax.set(xlabel='time (Month)', ylabel='Index Value',\n",
    "       title='US Uncertainty  Monthly Index')\n",
    "#introduce grid on the plot\n",
    "ax.grid()\n",
    "#Save the plot\n",
    "f.savefig('USP_Mon.png',bbox_inches='tight')"
   ]
  },
  {
   "cell_type": "code",
   "execution_count": null,
   "metadata": {},
   "outputs": [],
   "source": [
    "USP_norm=(USP_MON-USP_MON.mean())/(USP_MON.std())\n",
    "USP_norm.head()"
   ]
  },
  {
   "cell_type": "code",
   "execution_count": null,
   "metadata": {},
   "outputs": [],
   "source": [
    "fig, ax = plt.subplots(figsize = (15,5))\n",
    "ax.plot(USP_norm,'b',label='USP')\n",
    "ax.axvspan('2007-12', '2009-06', color='grey', alpha=0.5)\n",
    "# define the axes properties and the title of the graph\n",
    "ax.set(xlabel='time (Month)', ylabel='Index Value',\n",
    "       title='US Uncertainty  Monthly Index Normalised')\n",
    "#introduce grid on the plot\n",
    "ax.grid()\n",
    "#Save the plot\n",
    "fig.savefig('USP_Mon_Norm.png',bbox_inches='tight')"
   ]
  },
  {
   "cell_type": "markdown",
   "metadata": {},
   "source": [
    "## VIX INDEX"
   ]
  },
  {
   "cell_type": "code",
   "execution_count": null,
   "metadata": {},
   "outputs": [],
   "source": [
    "VIX=pd.read_csv('^VIX.csv',parse_dates=['Date'],index_col='Date')\n",
    "VIX.head()"
   ]
  },
  {
   "cell_type": "code",
   "execution_count": null,
   "metadata": {},
   "outputs": [],
   "source": [
    "VIX_MON=VIX['Close']['2000':'2020-02'].resample('M').mean()/100\n",
    "# rename the column of the newly created series\n",
    "VIX_MON.rename('VIX', inplace=True)\n",
    "VIX_MON.head()"
   ]
  },
  {
   "cell_type": "code",
   "execution_count": null,
   "metadata": {},
   "outputs": [],
   "source": [
    "fig, ax = plt.subplots(figsize = (15,5))\n",
    "ax.plot(VIX_MON,'b',label='VIX')\n",
    "ax.axvspan('2007-12', '2009-06', color='grey', alpha=0.5)\n",
    "# define the axes properties and the title of the graph\n",
    "ax.set(xlabel='time (Month)', ylabel='Percent',\n",
    "       title='VIX Monthly Average')\n",
    "#introduce grid on the plot\n",
    "ax.grid()\n",
    "#Save the plot\n",
    "fig.savefig('Graphs\\VIX_Mon_Avg.png',bbox_inches='tight')"
   ]
  },
  {
   "cell_type": "markdown",
   "metadata": {},
   "source": [
    "## Industrial Production Index"
   ]
  },
  {
   "cell_type": "code",
   "execution_count": null,
   "metadata": {},
   "outputs": [],
   "source": [
    "INDPRO=pd.read_csv('INDPRO.csv',parse_dates=['DATE'],index_col='DATE')\n",
    "INDPRO.head()"
   ]
  },
  {
   "cell_type": "code",
   "execution_count": null,
   "metadata": {},
   "outputs": [],
   "source": [
    "INDPRO.tail()"
   ]
  },
  {
   "cell_type": "code",
   "execution_count": null,
   "metadata": {},
   "outputs": [],
   "source": [
    "fig, ax = plt.subplots(figsize = (15,5))\n",
    "ax.plot(INDPRO,'b',label='INDPRO')\n",
    "ax.axvspan('2007-12', '2009-06', color='grey', alpha=0.5)\n",
    "# define the axes properties and the title of the graph\n",
    "ax.set(xlabel='time (Month)', ylabel='INDEX 2012=100',\n",
    "       title='Idustrial Production Index')\n",
    "#introduce grid on the plot\n",
    "ax.grid()"
   ]
  },
  {
   "cell_type": "code",
   "execution_count": null,
   "metadata": {},
   "outputs": [],
   "source": [
    "INDPRO_MON=INDPRO['2000':'2020-02'].resample('M').mean()\n",
    "# rename the column of the newly created series\n",
    "INDPRO_MON.head()"
   ]
  },
  {
   "cell_type": "code",
   "execution_count": null,
   "metadata": {},
   "outputs": [],
   "source": [
    "fig, ax = plt.subplots(figsize = (15,5))\n",
    "ax.plot(INDPRO_MON,'b',label='INDPRO')\n",
    "ax.axvspan('2007-12', '2009-06', color='grey', alpha=0.5)\n",
    "# define the axes properties and the title of the graph\n",
    "ax.set(xlabel='time (Month)', ylabel='Index 2012=100',\n",
    "       title='Industrial Production Index')\n",
    "#introduce grid on the plot\n",
    "ax.grid()\n",
    "#Save the plot\n",
    "fig.savefig('Graphs\\IndPro.png',bbox_inches='tight')"
   ]
  },
  {
   "cell_type": "markdown",
   "metadata": {},
   "source": [
    "## Harmonized Index of Consumer Prices"
   ]
  },
  {
   "cell_type": "code",
   "execution_count": null,
   "metadata": {},
   "outputs": [],
   "source": [
    "CPUSM=pd.read_csv('CP0000USM086NEST.csv',parse_dates=['DATE'],index_col='DATE')\n",
    "# rename the column of the newly created series\n",
    "CPUSM.rename({'CP0000USM086NEST':'CPUSM'},axis=1,inplace=True)\n",
    "CPUSM.head()"
   ]
  },
  {
   "cell_type": "code",
   "execution_count": null,
   "metadata": {},
   "outputs": [],
   "source": [
    "CPUSM_MON=CPUSM.resample('M').mean()\n",
    "CPUSM_MON.head()"
   ]
  },
  {
   "cell_type": "code",
   "execution_count": null,
   "metadata": {},
   "outputs": [],
   "source": [
    "fig, ax = plt.subplots(figsize = (15,5))\n",
    "ax.plot(CPUSM_MON,'b',label='CPUSM')\n",
    "ax.axvspan('2007-12', '2009-06', color='grey', alpha=0.5)\n",
    "# define the axes properties and the title of the graph\n",
    "ax.set(xlabel='time (Month)', ylabel='Index 2015=100',\n",
    "       title='Harmonized Index of Consumer Prices')\n",
    "#introduce grid on the plot\n",
    "ax.grid()\n",
    "#Save the plot\n",
    "fig.savefig('Graphs\\Consumer_Price.png',bbox_inches='tight')"
   ]
  },
  {
   "cell_type": "markdown",
   "metadata": {},
   "source": [
    "## Unemployment Rate"
   ]
  },
  {
   "cell_type": "code",
   "execution_count": null,
   "metadata": {},
   "outputs": [],
   "source": [
    "UNRATE=pd.read_csv('UNRATE.csv',parse_dates=['DATE'],index_col='DATE')\n",
    "UNRATE.head()"
   ]
  },
  {
   "cell_type": "code",
   "execution_count": null,
   "metadata": {},
   "outputs": [],
   "source": [
    "UNRATE_MON=UNRATE['2000':].resample('M').mean()\n",
    "UNRATE_MON.head()"
   ]
  },
  {
   "cell_type": "code",
   "execution_count": null,
   "metadata": {
    "scrolled": true
   },
   "outputs": [],
   "source": [
    "fig, ax = plt.subplots(figsize = (15,5))\n",
    "ax.plot(UNRATE_MON,'b',label='UNRATE')\n",
    "ax.axvspan('2007-12', '2009-06', color='grey', alpha=0.5)\n",
    "# define the axes properties and the title of the graph\n",
    "ax.set(xlabel='time (Month)', ylabel='Percent',\n",
    "       title='Unemployment Rate')\n",
    "#introduce grid on the plot\n",
    "ax.grid()\n",
    "#Save the plot\n",
    "fig.savefig('Unemployment_Rate.png',bbox_inches='tight')"
   ]
  },
  {
   "cell_type": "markdown",
   "metadata": {},
   "source": [
    "## Producer Price Index for All Commodities"
   ]
  },
  {
   "cell_type": "code",
   "execution_count": null,
   "metadata": {},
   "outputs": [],
   "source": [
    "PPIACO=pd.read_csv('PPIACO.csv',parse_dates=['DATE'],index_col='DATE')\n",
    "PPIACO.head()"
   ]
  },
  {
   "cell_type": "code",
   "execution_count": null,
   "metadata": {},
   "outputs": [],
   "source": [
    "PPIACO_MON=PPIACO['2000':].resample('M').mean()\n",
    "PPIACO_MON.head()"
   ]
  },
  {
   "cell_type": "code",
   "execution_count": null,
   "metadata": {},
   "outputs": [],
   "source": [
    "fig, ax = plt.subplots(figsize = (15,5))\n",
    "ax.plot(PPIACO_MON,'b',label='PPIACO')\n",
    "ax.axvspan('2007-12', '2009-06', color='grey', alpha=0.5)\n",
    "# define the axes properties and the title of the graph\n",
    "ax.set(xlabel='time (Month)', ylabel='Index 1982=100',\n",
    "       title='Producer Price Index for All Commodities')\n",
    "#introduce grid on the plot\n",
    "ax.grid()\n",
    "#Save the plot\n",
    "fig.savefig('Graphs\\Producer_Price.png',bbox_inches='tight')"
   ]
  },
  {
   "cell_type": "markdown",
   "metadata": {},
   "source": [
    "## Consumer Opinion Surveys: Confidence Indicators: Composite Indicators: OECD Indicator for the United States "
   ]
  },
  {
   "cell_type": "code",
   "execution_count": null,
   "metadata": {},
   "outputs": [],
   "source": [
    "CSCICP=pd.read_csv('CSCICP03USM665S.csv',parse_dates=['DATE'],index_col='DATE')\n",
    "CSCICP.rename({'CSCICP03USM665S':'CSCICP'},axis=1,inplace=True)\n",
    "CSCICP.head()"
   ]
  },
  {
   "cell_type": "code",
   "execution_count": null,
   "metadata": {},
   "outputs": [],
   "source": [
    "CSCICP_MON=CSCICP['2000':].resample('M').mean()\n",
    "CSCICP_MON.head()"
   ]
  },
  {
   "cell_type": "code",
   "execution_count": null,
   "metadata": {},
   "outputs": [],
   "source": [
    "fig, ax = plt.subplots(figsize = (15,5))\n",
    "ax.plot(CSCICP_MON,'b',label='CSCICP')\n",
    "ax.axvspan('2007-12', '2009-06', color='grey', alpha=0.5)\n",
    "# define the axes properties and the title of the graph\n",
    "ax.set(xlabel='time (Month)', ylabel='Normalized (Normal=100)',\n",
    "       title='Consumer Opinion Surveys: Confidence Indicators: ')\n",
    "#introduce grid on the plot\n",
    "ax.grid()\n",
    "#Save the plot\n",
    "fig.savefig('Graphs\\Consumer_Opinion_Surveys.png',bbox_inches='tight')"
   ]
  },
  {
   "cell_type": "markdown",
   "metadata": {},
   "source": [
    "## Crude Oil Prices: West Texas Intermediate (WTI) - Cushing, Oklahoma"
   ]
  },
  {
   "cell_type": "code",
   "execution_count": null,
   "metadata": {},
   "outputs": [],
   "source": [
    "DCOIL=pd.read_csv('DCOILWTICO.csv',parse_dates=['DATE'],index_col='DATE')\n",
    "DCOIL.head()"
   ]
  },
  {
   "cell_type": "code",
   "execution_count": null,
   "metadata": {},
   "outputs": [],
   "source": [
    "DCOIL.dtypes"
   ]
  },
  {
   "cell_type": "code",
   "execution_count": null,
   "metadata": {},
   "outputs": [],
   "source": [
    "DCOIL=pd.to_numeric(DCOIL['DCOILWTICO'], errors='coerce')\n",
    "DCOIL.dtypes"
   ]
  },
  {
   "cell_type": "code",
   "execution_count": null,
   "metadata": {},
   "outputs": [],
   "source": [
    "DCOIL_MON=DCOIL['2000':].resample('M').mean()\n",
    "DCOIL_MON.head()"
   ]
  },
  {
   "cell_type": "code",
   "execution_count": null,
   "metadata": {},
   "outputs": [],
   "source": [
    "fig, ax = plt.subplots(figsize = (15,5))\n",
    "ax.plot(DCOIL_MON,'b',label='DCOIL')\n",
    "ax.axvspan('2007-12', '2009-06', color='grey', alpha=0.5)\n",
    "# define the axes properties and the title of the graph\n",
    "ax.set(xlabel='time (Month)', ylabel='US $ per Barrel',\n",
    "       title='Crude Oil Prices: West Texas Intermediate (WTI) - Cushing, Oklahoma')\n",
    "#introduce grid on the plot\n",
    "ax.grid()\n",
    "#Save the plot\n",
    "fig.savefig('Graphs\\Crude_Oil_Prices.png',bbox_inches='tight')"
   ]
  },
  {
   "cell_type": "markdown",
   "metadata": {},
   "source": [
    "## U.S. / Euro Foreign Exchange Rate "
   ]
  },
  {
   "cell_type": "code",
   "execution_count": null,
   "metadata": {},
   "outputs": [],
   "source": [
    "USEU=pd.read_csv('DEXUSEU.csv',parse_dates=['DATE'],index_col='DATE')\n",
    "USEU.head()"
   ]
  },
  {
   "cell_type": "code",
   "execution_count": null,
   "metadata": {},
   "outputs": [],
   "source": [
    "USEU.dtypes"
   ]
  },
  {
   "cell_type": "code",
   "execution_count": null,
   "metadata": {},
   "outputs": [],
   "source": [
    "USEU=pd.to_numeric(USEU['DEXUSEU'],errors='coerce')\n",
    "USEU.dtypes"
   ]
  },
  {
   "cell_type": "code",
   "execution_count": null,
   "metadata": {},
   "outputs": [],
   "source": [
    "USEU_MON=USEU['2000':].resample('M').mean()\n",
    "USEU_MON.head()"
   ]
  },
  {
   "cell_type": "code",
   "execution_count": null,
   "metadata": {},
   "outputs": [],
   "source": [
    "fig, ax = plt.subplots(figsize = (15,5))\n",
    "ax.plot(USEU_MON,'b',label='USEU')\n",
    "ax.axvspan('2007-12', '2009-06', color='grey', alpha=0.5)\n",
    "# define the axes properties and the title of the graph\n",
    "ax.set(xlabel='time (Month)', ylabel='US $ to One Euro',\n",
    "       title='U.S. / Euro Foreign Exchange Rate')\n",
    "#introduce grid on the plot\n",
    "ax.grid()\n",
    "#Save the plot\n",
    "fig.savefig('US_Euro_Foreign_Exchange_Rate.png',bbox_inches='tight')"
   ]
  },
  {
   "cell_type": "markdown",
   "metadata": {},
   "source": [
    "## Consumer Loans, All Commercial Banks "
   ]
  },
  {
   "cell_type": "code",
   "execution_count": null,
   "metadata": {},
   "outputs": [],
   "source": [
    "CONS=pd.read_csv('CONSUMER.csv',parse_dates=['DATE'],index_col='DATE')\n",
    "CONS.head()"
   ]
  },
  {
   "cell_type": "code",
   "execution_count": null,
   "metadata": {},
   "outputs": [],
   "source": [
    "CONS_MON=CONS['2000':].resample('M').mean()\n",
    "CONS_MON.head()"
   ]
  },
  {
   "cell_type": "code",
   "execution_count": null,
   "metadata": {},
   "outputs": [],
   "source": [
    "fig, ax = plt.subplots(figsize = (15,5))\n",
    "ax.plot(CONS_MON,'b',label='CONS')\n",
    "ax.axvspan('2007-12', '2009-06', color='grey', alpha=0.5)\n",
    "# define the axes properties and the title of the graph\n",
    "ax.set(xlabel='time (Month)', ylabel='Billions of U.S. Dollars',\n",
    "       title='Consumer Loans, All Commercial Banks')\n",
    "#introduce grid on the plot\n",
    "ax.grid()\n",
    "#Save the plot\n",
    "fig.savefig('Graphs\\Consumer_Loans.png',bbox_inches='tight')"
   ]
  },
  {
   "cell_type": "markdown",
   "metadata": {},
   "source": [
    "## Real Estate Loans: Residential Real Estate Loans: Revolving Home Equity Loans, All Commercial Banks"
   ]
  },
  {
   "cell_type": "code",
   "execution_count": null,
   "metadata": {},
   "outputs": [],
   "source": [
    "REL=pd.read_csv('RHEACBW027SBOG.csv',parse_dates=['DATE'],index_col='DATE')\n",
    "REL.head()"
   ]
  },
  {
   "cell_type": "code",
   "execution_count": null,
   "metadata": {},
   "outputs": [],
   "source": [
    "REL_MON=REL['2000':].resample('M').mean()\n",
    "REL_MON.head()"
   ]
  },
  {
   "cell_type": "code",
   "execution_count": null,
   "metadata": {},
   "outputs": [],
   "source": [
    "fig, ax = plt.subplots(figsize = (15,5))\n",
    "ax.plot(REL_MON,'b',label='REL')\n",
    "ax.axvspan('2007-12', '2009-06', color='grey', alpha=0.5)\n",
    "# define the axes properties and the title of the graph\n",
    "ax.set(xlabel='time (Month)', ylabel='Billions of U.S. Dollars',\n",
    "       title='Real Estate Loans: Residential Real Estate Loans')\n",
    "#introduce grid on the plot\n",
    "ax.grid()\n",
    "#Save the plot\n",
    "fig.savefig('Graphs\\Real_Estate_Loans.png',bbox_inches='tight')"
   ]
  },
  {
   "cell_type": "markdown",
   "metadata": {},
   "source": [
    "## Commercial and Industrial Loans, All Commercial Banks "
   ]
  },
  {
   "cell_type": "code",
   "execution_count": null,
   "metadata": {},
   "outputs": [],
   "source": [
    "BUSL=pd.read_csv('BUSLOANS.csv',parse_dates=['DATE'],index_col='DATE')\n",
    "BUSL.head()"
   ]
  },
  {
   "cell_type": "code",
   "execution_count": null,
   "metadata": {},
   "outputs": [],
   "source": [
    "BUSL_MON=BUSL['2000':].resample('M').mean()\n",
    "BUSL_MON.head()"
   ]
  },
  {
   "cell_type": "code",
   "execution_count": null,
   "metadata": {},
   "outputs": [],
   "source": [
    "fig, ax = plt.subplots(figsize = (15,5))\n",
    "ax.plot(BUSL_MON,'b',label='BUSL')\n",
    "ax.axvspan('2007-12', '2009-06', color='grey', alpha=0.5)\n",
    "# define the axes properties and the title of the graph\n",
    "ax.set(xlabel='time (Month)', ylabel='Billions of U.S. Dollars',\n",
    "       title='Commercial and Industrial Loans, All Commercial Banks ')\n",
    "#introduce grid on the plot\n",
    "ax.grid()\n",
    "#Save the plot\n",
    "fig.savefig('Graphs\\Real_Estate_Loans.png',bbox_inches='tight')"
   ]
  },
  {
   "cell_type": "markdown",
   "metadata": {},
   "source": [
    "## Savings Deposits - Total "
   ]
  },
  {
   "cell_type": "code",
   "execution_count": null,
   "metadata": {},
   "outputs": [],
   "source": [
    "SAVE=pd.read_csv('SAVINGSL.csv',parse_dates=['DATE'],index_col='DATE')\n",
    "SAVE.head()"
   ]
  },
  {
   "cell_type": "code",
   "execution_count": null,
   "metadata": {},
   "outputs": [],
   "source": [
    "SAVE_MON=SAVE['2000':].resample('M').mean()\n",
    "SAVE_MON.head()"
   ]
  },
  {
   "cell_type": "code",
   "execution_count": null,
   "metadata": {
    "scrolled": true
   },
   "outputs": [],
   "source": [
    "fig, ax = plt.subplots(figsize = (15,5))\n",
    "ax.plot(SAVE_MON,'b',label='SAVE')\n",
    "ax.axvspan('2007-12', '2009-06', color='grey', alpha=0.5)\n",
    "# define the axes properties and the title of the graph\n",
    "ax.set(xlabel='time (Month)', ylabel='Billions of U.S. Dollars',\n",
    "       title='Savings Deposits - Total ')\n",
    "#introduce grid on the plot\n",
    "ax.grid()\n",
    "#Save the plot\n",
    "fig.savefig('Graphs\\Savings_Deposits.png',bbox_inches='tight')"
   ]
  },
  {
   "cell_type": "markdown",
   "metadata": {},
   "source": [
    "## Delinquency Rate on Credit Card Loans, All Commercial Banks "
   ]
  },
  {
   "cell_type": "code",
   "execution_count": null,
   "metadata": {},
   "outputs": [],
   "source": [
    "DRC=pd.read_csv('DRCCLACBS.csv',parse_dates=['DATE'],index_col='DATE')\n",
    "DRC.head()"
   ]
  },
  {
   "cell_type": "code",
   "execution_count": null,
   "metadata": {},
   "outputs": [],
   "source": [
    "fig, ax = plt.subplots(figsize = (15,5))\n",
    "ax.plot(DRC,'b',label='SAVE')\n",
    "ax.axvspan('2007-12', '2009-06', color='grey', alpha=0.5)\n",
    "# define the axes properties and the title of the graph\n",
    "ax.set(xlabel='time (Quarters)', ylabel='Percent, Seasonally Adjusted',\n",
    "       title='Savings Deposits - Total ')\n",
    "#introduce grid on the plot\n",
    "ax.grid()\n",
    "#Save the plot\n",
    "fig.savefig('Graphs\\Delinquency_Rate_Credit_CardLoans.png',bbox_inches='tight')"
   ]
  },
  {
   "cell_type": "markdown",
   "metadata": {},
   "source": [
    "## Find the Cross Correlation"
   ]
  },
  {
   "cell_type": "code",
   "execution_count": null,
   "metadata": {},
   "outputs": [],
   "source": [
    "Money=pd.concat([MULT_MON,MZM_norm,TYM_MON,FED_MON,EXCSR_norm,GSPC_norm,VIX_MON,USP_norm],axis=1)\n",
    "Money.head()"
   ]
  },
  {
   "cell_type": "code",
   "execution_count": null,
   "metadata": {},
   "outputs": [],
   "source": [
    "Money.tail()"
   ]
  },
  {
   "cell_type": "markdown",
   "metadata": {},
   "source": [
    "The cross correlation of the selected variables from 2000 up to 2007 (with the year 2007)\n",
    "\n",
    "We will calculate this using the spearman correlation method as we do not now if ther is a linear relationship between all variables"
   ]
  },
  {
   "cell_type": "code",
   "execution_count": null,
   "metadata": {},
   "outputs": [],
   "source": [
    "Money['2000':'2007-12'].tail()"
   ]
  },
  {
   "cell_type": "code",
   "execution_count": null,
   "metadata": {},
   "outputs": [],
   "source": [
    "Money_Cor=Money['2000':'2007-12'].corr(method='spearman')\n",
    "Money_Cor"
   ]
  },
  {
   "cell_type": "code",
   "execution_count": null,
   "metadata": {},
   "outputs": [],
   "source": [
    "import seaborn as sns"
   ]
  },
  {
   "cell_type": "code",
   "execution_count": null,
   "metadata": {},
   "outputs": [],
   "source": [
    "#define a mask to show only the values below the diagonal of the cross correlation matrix\n",
    "mask = np.zeros_like(Money_Cor, dtype=np.bool)\n",
    "mask[np.triu_indices_from(mask)] = True\n",
    "# Set up the matplotlib figure\n",
    "f, ax = plt.subplots(figsize=(11, 9))\n",
    "# create the heatmap\n",
    "sns.heatmap(Money_Cor, cmap='cool', vmax=1,vmin=-1, center=0, annot=True,\n",
    "            square=False, linewidths=.5, cbar_kws={\"shrink\": .5},mask=mask)\n",
    "#define the place ofthe tickers in each axes\n",
    "ax.set_xticklabels(\n",
    "    ax.get_xticklabels(),\n",
    "    rotation=45,\n",
    "    horizontalalignment='right'\n",
    ");\n",
    "ax.set_yticklabels(\n",
    "    ax.get_yticklabels(),\n",
    "    rotation=0,\n",
    "    horizontalalignment='right'\n",
    ");\n",
    "plt.title('Cross Correlation Matrix 2000-2009')\n",
    "#set axis equal for better representation\n",
    "plt.axis('equal')\n",
    "# show\n",
    "plt.show()\n",
    "f.savefig('Graphs\\Spearman_Corr_00-09.png',bbox_inches='tight')"
   ]
  },
  {
   "cell_type": "markdown",
   "metadata": {},
   "source": [
    "The cross correlation of the selected variables from 2009-06 up to now"
   ]
  },
  {
   "cell_type": "code",
   "execution_count": null,
   "metadata": {},
   "outputs": [],
   "source": [
    "Money_Cor1=Money['2009-06':].corr(method='spearman')\n",
    "Money_Cor1"
   ]
  },
  {
   "cell_type": "code",
   "execution_count": null,
   "metadata": {},
   "outputs": [],
   "source": [
    "#define a mask to show only the values below the diagonal of the cross correlation matrix\n",
    "mask = np.zeros_like(Money_Cor1, dtype=np.bool)\n",
    "mask[np.triu_indices_from(mask)] = True\n",
    "# Set up the matplotlib figure\n",
    "f, ax = plt.subplots(figsize=(11, 9))\n",
    "# create the heatmap\n",
    "sns.heatmap(Money_Cor1, cmap='cool', vmax=1,vmin=-1, center=0, annot=True,\n",
    "            square=False, linewidths=.5, cbar_kws={\"shrink\": .5}, mask=mask)\n",
    "#define the place ofthe tickers in each axes\n",
    "ax.set_xticklabels(\n",
    "    ax.get_xticklabels(),\n",
    "    rotation=45,\n",
    "    horizontalalignment='right'\n",
    ");\n",
    "ax.set_yticklabels(\n",
    "    ax.get_yticklabels(),\n",
    "    rotation=0,\n",
    "    horizontalalignment='right'\n",
    ");\n",
    "plt.title('Cross Correlation Matrix 2010-2020')\n",
    "#set axis equal for better representation\n",
    "plt.axis('equal')\n",
    "# show\n",
    "plt.show()\n",
    "f.savefig('Graphs\\Spearman_Corr_10-now.png',bbox_inches='tight')"
   ]
  },
  {
   "cell_type": "markdown",
   "metadata": {},
   "source": [
    "## Clustering"
   ]
  },
  {
   "cell_type": "code",
   "execution_count": null,
   "metadata": {},
   "outputs": [],
   "source": [
    "fig=sns.clustermap(Money['2000':'2007'], metric=\"correlation\", method=\"single\", cmap=\"Reds\", standard_scale=1,linewidth=.1)\n",
    "plt.title('Clustering 2000-2009')\n",
    "plt.show()\n",
    "fig.savefig('Graphs\\ClusterMap_00_08.png')"
   ]
  },
  {
   "cell_type": "code",
   "execution_count": null,
   "metadata": {},
   "outputs": [],
   "source": [
    "fig=sns.clustermap(Money['2009-06':'2019'], metric=\"correlation\", method=\"single\", cmap=\"Reds\", standard_scale=1,linewidth=.1)\n",
    "plt.title('Clustering 2010-2019')\n",
    "plt.show()\n",
    "fig.savefig('Graphs\\ClusterMap_10_19.png')"
   ]
  }
 ],
 "metadata": {
  "kernelspec": {
   "display_name": "Python 3",
   "language": "python",
   "name": "python3"
  },
  "language_info": {
   "codemirror_mode": {
    "name": "ipython",
    "version": 3
   },
   "file_extension": ".py",
   "mimetype": "text/x-python",
   "name": "python",
   "nbconvert_exporter": "python",
   "pygments_lexer": "ipython3",
   "version": "3.7.4"
  }
 },
 "nbformat": 4,
 "nbformat_minor": 2
}
